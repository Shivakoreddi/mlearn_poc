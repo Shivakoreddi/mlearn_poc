{
 "cells": [
  {
   "cell_type": "markdown",
   "id": "56076a9c",
   "metadata": {},
   "source": [
    "# 🧠 Advanced Feature Engineering Notebook\n",
    "Generated on 2025-04-18 04:32"
   ]
  },
  {
   "cell_type": "code",
   "execution_count": null,
   "id": "e89ce43d",
   "metadata": {},
   "outputs": [],
   "source": [
    "import pandas as pd\n",
    "import numpy as np\n",
    "import matplotlib.pyplot as plt\n",
    "from sklearn.preprocessing import LabelEncoder, StandardScaler, MinMaxScaler\n",
    "from sklearn.feature_extraction.text import CountVectorizer, TfidfVectorizer\n",
    "from sklearn.decomposition import PCA\n",
    "from sklearn.feature_selection import SelectKBest, mutual_info_classif, f_classif, VarianceThreshold\n",
    "from sklearn.ensemble import RandomForestClassifier\n",
    "from sklearn.model_selection import train_test_split\n",
    "np.random.seed(42)"
   ]
  },
  {
   "cell_type": "markdown",
   "id": "d925f06e",
   "metadata": {},
   "source": [
    "## 1️⃣ Sample Dataset"
   ]
  },
  {
   "cell_type": "code",
   "execution_count": null,
   "id": "9667afa2",
   "metadata": {},
   "outputs": [],
   "source": [
    "df = pd.DataFrame({\n",
    "    'Age': np.random.randint(18, 70, 100),\n",
    "    'Income': np.random.normal(50000, 15000, 100).astype(int),\n",
    "    'Gender': np.random.choice(['Male', 'Female'], 100),\n",
    "    'Department': np.random.choice(['ICU', 'Surgery', 'Ortho'], 100),\n",
    "    'Purchased': np.random.choice([0, 1], 100),\n",
    "    'Text': np.random.choice(['great product', 'bad service', 'excellent', 'not good'], 100)\n",
    "})\n",
    "df.loc[::10, 'Age'] = np.nan\n",
    "df['Age'] = df['Age'].fillna(df['Age'].median())\n",
    "df['Gender'] = LabelEncoder().fit_transform(df['Gender'])\n",
    "df = pd.concat([df, pd.get_dummies(df['Department'], drop_first=True)], axis=1)\n",
    "df['Income_scaled'] = StandardScaler().fit_transform(df[['Income']])\n",
    "df.head()"
   ]
  },
  {
   "cell_type": "markdown",
   "id": "c8b1cd99",
   "metadata": {},
   "source": [
    "## 2️⃣ Remove Low-Variance Features"
   ]
  },
  {
   "cell_type": "code",
   "execution_count": null,
   "id": "f63be91f",
   "metadata": {},
   "outputs": [],
   "source": [
    "selector = VarianceThreshold(threshold=0.01)\n",
    "reduced = selector.fit_transform(df[['Age', 'Income_scaled', 'Gender']])\n",
    "print(\"Remaining columns:\", selector.get_feature_names_out(['Age', 'Income_scaled', 'Gender']))"
   ]
  },
  {
   "cell_type": "markdown",
   "id": "f3dd4b45",
   "metadata": {},
   "source": [
    "## 3️⃣ Correlation Matrix"
   ]
  },
  {
   "cell_type": "code",
   "execution_count": null,
   "id": "228e9569",
   "metadata": {},
   "outputs": [],
   "source": [
    "import seaborn as sns\n",
    "corr = df.corr(numeric_only=True)\n",
    "plt.figure(figsize=(8, 5))\n",
    "sns.heatmap(corr, annot=True, cmap='coolwarm')\n",
    "plt.title(\"Correlation Matrix\")\n",
    "plt.show()"
   ]
  },
  {
   "cell_type": "markdown",
   "id": "2bab6d76",
   "metadata": {},
   "source": [
    "## 4️⃣ Feature Selection using Mutual Information"
   ]
  },
  {
   "cell_type": "code",
   "execution_count": null,
   "id": "9e448b59",
   "metadata": {},
   "outputs": [],
   "source": [
    "X = df[['Age', 'Income_scaled', 'Gender']]\n",
    "y = df['Purchased']\n",
    "mi = mutual_info_classif(X, y, discrete_features='auto')\n",
    "for col, val in zip(X.columns, mi):\n",
    "    print(f\"{col}: MI score = {val:.4f}\")"
   ]
  },
  {
   "cell_type": "markdown",
   "id": "e211cfbd",
   "metadata": {},
   "source": [
    "## 5️⃣ Feature Selection using ANOVA F-Score"
   ]
  },
  {
   "cell_type": "code",
   "execution_count": null,
   "id": "ea9d54d6",
   "metadata": {},
   "outputs": [],
   "source": [
    "f_scores = f_classif(X, y)[0]\n",
    "for col, score in zip(X.columns, f_scores):\n",
    "    print(f\"{col}: F-score = {score:.4f}\")"
   ]
  },
  {
   "cell_type": "markdown",
   "id": "b6218442",
   "metadata": {},
   "source": [
    "## 6️⃣ Feature Importance from Random Forest"
   ]
  },
  {
   "cell_type": "code",
   "execution_count": null,
   "id": "acf836e7",
   "metadata": {},
   "outputs": [],
   "source": [
    "model = RandomForestClassifier(n_estimators=100, random_state=42)\n",
    "model.fit(X, y)\n",
    "importances = model.feature_importances_\n",
    "for col, score in zip(X.columns, importances):\n",
    "    print(f\"{col}: Importance = {score:.4f}\")"
   ]
  },
  {
   "cell_type": "markdown",
   "id": "06695e19",
   "metadata": {},
   "source": [
    "## 7️⃣ Polynomial Feature Generation"
   ]
  },
  {
   "cell_type": "code",
   "execution_count": null,
   "id": "6044207f",
   "metadata": {},
   "outputs": [],
   "source": [
    "from sklearn.preprocessing import PolynomialFeatures\n",
    "poly = PolynomialFeatures(degree=2, include_bias=False)\n",
    "X_poly = poly.fit_transform(df[['Age', 'Income_scaled']])\n",
    "print(\"Polynomial features shape:\", X_poly.shape)"
   ]
  },
  {
   "cell_type": "markdown",
   "id": "90134e20",
   "metadata": {},
   "source": [
    "## 8️⃣ Optional: Automated Feature Engineering with FeatureTools"
   ]
  },
  {
   "cell_type": "code",
   "execution_count": null,
   "id": "288c7042",
   "metadata": {},
   "outputs": [],
   "source": [
    "# !pip install featuretools  # Uncomment if not installed\n",
    "# import featuretools as ft\n",
    "# es = ft.EntitySet(id='dataset')\n",
    "# es = es.add_dataframe(dataframe_name='df', dataframe=df.reset_index(), index='index')\n",
    "# feature_matrix, feature_defs = ft.dfs(entityset=es, target_dataframe_name='df')\n",
    "# feature_matrix.head()"
   ]
  }
 ],
 "metadata": {},
 "nbformat": 4,
 "nbformat_minor": 5
}
