{
 "cells": [
  {
   "cell_type": "markdown",
   "id": "5a878bc6",
   "metadata": {},
   "source": [
    "# Universal Data‑Structure Cue Sheet\n",
    "A quick‑reference notebook covering common patterns, constraints, and data‑structure choices."
   ]
  },
  {
   "cell_type": "markdown",
   "id": "21865a69",
   "metadata": {},
   "source": [
    "## 1  Problem Clues → First‑Pass Picks\n",
    "| Clue words / input shape | Likely DS family | Core ops you’ll exploit |\n",
    "| --- | --- | --- |\n",
    "| **“index by position”, contiguous** | **Array / List / Vector** | O(1) access |\n",
    "| **“insert/delete in middle often”** | **Linked List** | O(1) splice |\n",
    "| **“undo/redo”, DFS** | **Stack** | O(1) push/pop |\n",
    "| **“BFS queue”, sliding window** | **Queue / Deque** | O(1) enqueue/dequeue |\n",
    "| **“look‑up by key → value”** | **Hash Map / Hash Set** | Avg O(1) get/put |\n",
    "| **“sorted order, predecessor/successor”** | **Balanced BST** | O(log n) ordered ops |\n",
    "| **“top‑k, min/max priority”** | **Heap / Priority Queue** | O(log n) push/pop |\n",
    "| **“hierarchy, parse tree”** | **Tree** | traversal |\n",
    "| **“disjoint groups”** | **Union‑Find** | α(n) ≈ O(1) |\n",
    "| **“string prefix match”** | **Trie** | O(L) |\n",
    "| **“range sum / update”** | **Fenwick / Segment Tree** | O(log n) range ops |\n",
    "| **“sparse graph”** | **Adjacency List** | O(V+E) |\n",
    "| **“dense graph small V”** | **Adjacency Matrix** | O(1) edge test |\n",
    "| **“unique count stream”** | **Bloom / HyperLogLog** | Prob O(1) |\n",
    "| **“bit‑flags, subset DP”** | **Bitset / Bitmask** | O(1) bit ops |"
   ]
  },
  {
   "cell_type": "markdown",
   "id": "d21dcb8e",
   "metadata": {},
   "source": [
    "## 2  Dominant Operation → Best Complexity\n",
    "| Need | Structure | Complexity |\n",
    "| --- | --- | --- |\n",
    "| k‑th order statistic | Quick‑Select / Two‑Heap | O(n) avg / O(log n) stream |\n",
    "| Sliding min/max | Monotonic Deque | O(n) total |\n",
    "| LRU cache | Doubly Linked List + Hash Map | O(1) |\n",
    "| Prefix sums | Array + Prefix array | O(1) query |\n",
    "| Shortest path | Heap‑backed PQ | O(E log V) |\n",
    "| Dynamic connectivity | Union‑Find | near O(1) |"
   ]
  },
  {
   "cell_type": "markdown",
   "id": "92f12829",
   "metadata": {},
   "source": [
    "## 3  Constraint Shortcuts\n",
    "| n | Safe complexities |\n",
    "| --- | --- |\n",
    "| n ≤ 30 | 2ⁿ / n! |\n",
    "| n ≈ 1 k–5 k | n² |\n",
    "| n ≈ 1e5 | n log n / n |\n",
    "| Streaming | per‑event O(1)/O(log n) |\n",
    "| Tight RAM | in‑place / bitset |"
   ]
  },
  {
   "cell_type": "markdown",
   "id": "bd9cc614",
   "metadata": {},
   "source": [
    "## 4  Memory vs. Speed Cheats\n",
    "| Goal | Trick | Benefit |\n",
    "| --- | --- | --- |\n",
    "| Save RAM but keep order | Implicit heap (array) | no pointers |\n",
    "| Constant‑time membership small domain | Bitset | 8× smaller than bool list |\n",
    "| Avoid recursion stack | Explicit stack | prevents overflow |\n",
    "| Shrink coordinate space | Coord Compression | fits Fenwick |"
   ]
  },
  {
   "cell_type": "markdown",
   "id": "bb7202ab",
   "metadata": {},
   "source": [
    "## 5  8‑Step Mental Flow\n",
    "1. Parse goal & constraints  \n",
    "2. Identify dominant op  \n",
    "3. Match keywords to DS  \n",
    "4. Check complexity vs. budget  \n",
    "5. Pick DS  \n",
    "6. Dry‑run small example  \n",
    "7. Compute complexity  \n",
    "8. Code & encapsulate"
   ]
  },
  {
   "cell_type": "markdown",
   "id": "bd63afd9",
   "metadata": {},
   "source": [
    "## 6  Python Nuggets\n",
    "```python\n",
    "# Min‑heap\n",
    "import heapq\n",
    "h=[]\n",
    "heapq.heappush(h, 5)\n",
    "heapq.heappush(h, 2)\n",
    "smallest = heapq.heappop(h)\n",
    "\n",
    "# Ordered insert/search\n",
    "import bisect\n",
    "arr = [1,4,7]\n",
    "bisect.insort(arr, 5)   # arr -> [1,4,5,7]\n",
    "idx = bisect.bisect_left(arr, 5)\n",
    "\n",
    "# LRU cache decorator\n",
    "from functools import lru_cache\n",
    "\n",
    "@lru_cache(maxsize=256)\n",
    "def fib(n):\n",
    "    return n if n<2 else fib(n-1)+fib(n-2)\n",
    "\n",
    "# Monotonic deque (sliding window max)\n",
    "from collections import deque\n",
    "\n",
    "def sliding_max(nums, k):\n",
    "    dq, out = deque(), []\n",
    "    for i, x in enumerate(nums):\n",
    "        while dq and nums[dq[-1]] <= x:\n",
    "            dq.pop()\n",
    "        dq.append(i)\n",
    "        if dq[0] == i-k:\n",
    "            dq.popleft()\n",
    "        if i >= k-1:\n",
    "            out.append(nums[dq[0]])\n",
    "    return out\n",
    "```"
   ]
  },
  {
   "cell_type": "markdown",
   "id": "083cf40b",
   "metadata": {},
   "source": [
    "## 7  Practice Grid (Must‑Solve Classics)\n",
    "| Pattern | Problems |\n",
    "| --- | --- |\n",
    "| Stack | *Valid Parentheses*, *Largest Rectangle in Histogram* |\n",
    "| Heap | *Merge k Sorted Lists*, *Top K Frequent* |\n",
    "| Hash Map | *Two‑Sum*, *Longest Substring Without Repeating* |\n",
    "| Sliding Window | *Minimum Window Substring*, *Sliding Window Maximum* |\n",
    "| Tree | *Binary Tree Zigzag Level Order* |\n",
    "| Union‑Find | *Number of Islands II*, *Redundant Connection* |\n",
    "| Segment Tree | *Range Sum Query*, *Count Inversions* |\n",
    "| Trie | *Word Search II*, *Replace Words* |"
   ]
  },
  {
   "cell_type": "markdown",
   "id": "d0375f11",
   "metadata": {},
   "source": [
    "### Example: Union‑Find in Python"
   ]
  },
  {
   "cell_type": "code",
   "execution_count": null,
   "id": "7cf58070",
   "metadata": {},
   "outputs": [],
   "source": [
    "class UnionFind:\n",
    "    def __init__(self, n):\n",
    "        self.parent = list(range(n))\n",
    "        self.rank = [0]*n\n",
    "    def find(self, x):\n",
    "        while self.parent[x] != x:\n",
    "            self.parent[x] = self.parent[self.parent[x]]  # path compression\n",
    "            x = self.parent[x]\n",
    "        return x\n",
    "    def union(self, a, b):\n",
    "        ra, rb = self.find(a), self.find(b)\n",
    "        if ra == rb:\n",
    "            return False\n",
    "        if self.rank[ra] < self.rank[rb]:\n",
    "            ra, rb = rb, ra\n",
    "        self.parent[rb] = ra\n",
    "        if self.rank[ra] == self.rank[rb]:\n",
    "            self.rank[ra] += 1\n",
    "        return True\n",
    "\n",
    "# quick demo\n",
    "uf = UnionFind(5)\n",
    "uf.union(0,1)\n",
    "uf.union(3,4)\n",
    "print([uf.find(i) for i in range(5)])  # representative ids"
   ]
  }
 ],
 "metadata": {},
 "nbformat": 4,
 "nbformat_minor": 5
}
