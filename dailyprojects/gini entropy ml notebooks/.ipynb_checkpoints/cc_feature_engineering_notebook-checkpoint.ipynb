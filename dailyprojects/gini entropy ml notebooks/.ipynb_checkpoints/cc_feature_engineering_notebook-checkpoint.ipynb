{
 "cells": [
  {
   "cell_type": "markdown",
   "id": "5bbd0aff",
   "metadata": {},
   "source": [
    "# 🚀 Complete Feature Engineering Workbook\n",
    "Generated on 2025-04-18 04:36"
   ]
  },
  {
   "cell_type": "code",
   "execution_count": 1,
   "id": "1c083ff0",
   "metadata": {},
   "outputs": [],
   "source": [
    "import pandas as pd\n",
    "import numpy as np\n",
    "import matplotlib.pyplot as plt\n",
    "import seaborn as sns\n",
    "from sklearn.preprocessing import LabelEncoder, StandardScaler, MinMaxScaler, PolynomialFeatures\n",
    "from sklearn.feature_extraction.text import CountVectorizer, TfidfVectorizer\n",
    "from sklearn.decomposition import PCA\n",
    "from sklearn.feature_selection import SelectKBest, mutual_info_classif, f_classif, VarianceThreshold\n",
    "from sklearn.ensemble import RandomForestClassifier\n",
    "from sklearn.model_selection import train_test_split\n",
    "np.random.seed(42)"
   ]
  },
  {
   "cell_type": "markdown",
   "id": "39817d8e",
   "metadata": {},
   "source": [
    "## 1️⃣ Creating a Synthetic Dataset"
   ]
  },
  {
   "cell_type": "code",
   "execution_count": 2,
   "id": "d6aaae7f",
   "metadata": {},
   "outputs": [
    {
     "data": {
      "text/html": [
       "<div>\n",
       "<style scoped>\n",
       "    .dataframe tbody tr th:only-of-type {\n",
       "        vertical-align: middle;\n",
       "    }\n",
       "\n",
       "    .dataframe tbody tr th {\n",
       "        vertical-align: top;\n",
       "    }\n",
       "\n",
       "    .dataframe thead th {\n",
       "        text-align: right;\n",
       "    }\n",
       "</style>\n",
       "<table border=\"1\" class=\"dataframe\">\n",
       "  <thead>\n",
       "    <tr style=\"text-align: right;\">\n",
       "      <th></th>\n",
       "      <th>Age</th>\n",
       "      <th>Income</th>\n",
       "      <th>Gender</th>\n",
       "      <th>Department</th>\n",
       "      <th>Purchased</th>\n",
       "      <th>Text</th>\n",
       "    </tr>\n",
       "  </thead>\n",
       "  <tbody>\n",
       "    <tr>\n",
       "      <th>0</th>\n",
       "      <td>56</td>\n",
       "      <td>21864</td>\n",
       "      <td>Female</td>\n",
       "      <td>ICU</td>\n",
       "      <td>0</td>\n",
       "      <td>great product</td>\n",
       "    </tr>\n",
       "    <tr>\n",
       "      <th>1</th>\n",
       "      <td>69</td>\n",
       "      <td>29498</td>\n",
       "      <td>Male</td>\n",
       "      <td>ICU</td>\n",
       "      <td>0</td>\n",
       "      <td>not good</td>\n",
       "    </tr>\n",
       "    <tr>\n",
       "      <th>2</th>\n",
       "      <td>46</td>\n",
       "      <td>59544</td>\n",
       "      <td>Male</td>\n",
       "      <td>ICU</td>\n",
       "      <td>1</td>\n",
       "      <td>not good</td>\n",
       "    </tr>\n",
       "    <tr>\n",
       "      <th>3</th>\n",
       "      <td>32</td>\n",
       "      <td>36399</td>\n",
       "      <td>Female</td>\n",
       "      <td>Ortho</td>\n",
       "      <td>1</td>\n",
       "      <td>not good</td>\n",
       "    </tr>\n",
       "    <tr>\n",
       "      <th>4</th>\n",
       "      <td>60</td>\n",
       "      <td>57140</td>\n",
       "      <td>Female</td>\n",
       "      <td>Ortho</td>\n",
       "      <td>1</td>\n",
       "      <td>not good</td>\n",
       "    </tr>\n",
       "  </tbody>\n",
       "</table>\n",
       "</div>"
      ],
      "text/plain": [
       "   Age  Income  Gender Department  Purchased           Text\n",
       "0   56   21864  Female        ICU          0  great product\n",
       "1   69   29498    Male        ICU          0       not good\n",
       "2   46   59544    Male        ICU          1       not good\n",
       "3   32   36399  Female      Ortho          1       not good\n",
       "4   60   57140  Female      Ortho          1       not good"
      ]
     },
     "execution_count": 2,
     "metadata": {},
     "output_type": "execute_result"
    }
   ],
   "source": [
    "df = pd.DataFrame({\n",
    "    'Age': np.random.randint(18, 70, 100),\n",
    "    'Income': np.random.normal(50000, 15000, 100).astype(int),\n",
    "    'Gender': np.random.choice(['Male', 'Female'], 100),\n",
    "    'Department': np.random.choice(['ICU', 'Surgery', 'Ortho'], 100),\n",
    "    'Purchased': np.random.choice([0, 1], 100),\n",
    "    'Text': np.random.choice(['great product', 'bad service', 'excellent', 'not good'], 100)\n",
    "})\n",
    "df.head()"
   ]
  },
  {
   "cell_type": "markdown",
   "id": "4feb768d",
   "metadata": {},
   "source": [
    "## 2️⃣ Handling Missing Values"
   ]
  },
  {
   "cell_type": "code",
   "execution_count": 3,
   "id": "f9635537",
   "metadata": {},
   "outputs": [
    {
     "data": {
      "text/html": [
       "<div>\n",
       "<style scoped>\n",
       "    .dataframe tbody tr th:only-of-type {\n",
       "        vertical-align: middle;\n",
       "    }\n",
       "\n",
       "    .dataframe tbody tr th {\n",
       "        vertical-align: top;\n",
       "    }\n",
       "\n",
       "    .dataframe thead th {\n",
       "        text-align: right;\n",
       "    }\n",
       "</style>\n",
       "<table border=\"1\" class=\"dataframe\">\n",
       "  <thead>\n",
       "    <tr style=\"text-align: right;\">\n",
       "      <th></th>\n",
       "      <th>Age</th>\n",
       "      <th>Income</th>\n",
       "      <th>Gender</th>\n",
       "      <th>Department</th>\n",
       "      <th>Purchased</th>\n",
       "      <th>Text</th>\n",
       "    </tr>\n",
       "  </thead>\n",
       "  <tbody>\n",
       "    <tr>\n",
       "      <th>0</th>\n",
       "      <td>42.0</td>\n",
       "      <td>21864</td>\n",
       "      <td>Female</td>\n",
       "      <td>ICU</td>\n",
       "      <td>0</td>\n",
       "      <td>great product</td>\n",
       "    </tr>\n",
       "    <tr>\n",
       "      <th>1</th>\n",
       "      <td>69.0</td>\n",
       "      <td>29498</td>\n",
       "      <td>Male</td>\n",
       "      <td>ICU</td>\n",
       "      <td>0</td>\n",
       "      <td>not good</td>\n",
       "    </tr>\n",
       "    <tr>\n",
       "      <th>2</th>\n",
       "      <td>46.0</td>\n",
       "      <td>59544</td>\n",
       "      <td>Male</td>\n",
       "      <td>ICU</td>\n",
       "      <td>1</td>\n",
       "      <td>not good</td>\n",
       "    </tr>\n",
       "    <tr>\n",
       "      <th>3</th>\n",
       "      <td>32.0</td>\n",
       "      <td>36399</td>\n",
       "      <td>Female</td>\n",
       "      <td>Ortho</td>\n",
       "      <td>1</td>\n",
       "      <td>not good</td>\n",
       "    </tr>\n",
       "    <tr>\n",
       "      <th>4</th>\n",
       "      <td>60.0</td>\n",
       "      <td>57140</td>\n",
       "      <td>Female</td>\n",
       "      <td>Ortho</td>\n",
       "      <td>1</td>\n",
       "      <td>not good</td>\n",
       "    </tr>\n",
       "    <tr>\n",
       "      <th>5</th>\n",
       "      <td>25.0</td>\n",
       "      <td>69554</td>\n",
       "      <td>Female</td>\n",
       "      <td>ICU</td>\n",
       "      <td>0</td>\n",
       "      <td>excellent</td>\n",
       "    </tr>\n",
       "    <tr>\n",
       "      <th>6</th>\n",
       "      <td>38.0</td>\n",
       "      <td>53173</td>\n",
       "      <td>Female</td>\n",
       "      <td>ICU</td>\n",
       "      <td>1</td>\n",
       "      <td>bad service</td>\n",
       "    </tr>\n",
       "    <tr>\n",
       "      <th>7</th>\n",
       "      <td>56.0</td>\n",
       "      <td>58955</td>\n",
       "      <td>Male</td>\n",
       "      <td>Surgery</td>\n",
       "      <td>1</td>\n",
       "      <td>great product</td>\n",
       "    </tr>\n",
       "    <tr>\n",
       "      <th>8</th>\n",
       "      <td>36.0</td>\n",
       "      <td>36554</td>\n",
       "      <td>Female</td>\n",
       "      <td>ICU</td>\n",
       "      <td>1</td>\n",
       "      <td>not good</td>\n",
       "    </tr>\n",
       "    <tr>\n",
       "      <th>9</th>\n",
       "      <td>40.0</td>\n",
       "      <td>48320</td>\n",
       "      <td>Female</td>\n",
       "      <td>Surgery</td>\n",
       "      <td>1</td>\n",
       "      <td>not good</td>\n",
       "    </tr>\n",
       "  </tbody>\n",
       "</table>\n",
       "</div>"
      ],
      "text/plain": [
       "    Age  Income  Gender Department  Purchased           Text\n",
       "0  42.0   21864  Female        ICU          0  great product\n",
       "1  69.0   29498    Male        ICU          0       not good\n",
       "2  46.0   59544    Male        ICU          1       not good\n",
       "3  32.0   36399  Female      Ortho          1       not good\n",
       "4  60.0   57140  Female      Ortho          1       not good\n",
       "5  25.0   69554  Female        ICU          0      excellent\n",
       "6  38.0   53173  Female        ICU          1    bad service\n",
       "7  56.0   58955    Male    Surgery          1  great product\n",
       "8  36.0   36554  Female        ICU          1       not good\n",
       "9  40.0   48320  Female    Surgery          1       not good"
      ]
     },
     "execution_count": 3,
     "metadata": {},
     "output_type": "execute_result"
    }
   ],
   "source": [
    "df.loc[::10, 'Age'] = np.nan\n",
    "df['Age'] = df['Age'].fillna(df['Age'].median())\n",
    "df['Income'] = df['Income'].fillna(df['Income'].mean())\n",
    "df.head(10)"
   ]
  },
  {
   "cell_type": "markdown",
   "id": "d416a0a7",
   "metadata": {},
   "source": [
    "## 3️⃣ Label and One-Hot Encoding"
   ]
  },
  {
   "cell_type": "code",
   "execution_count": 4,
   "id": "a57cb21a",
   "metadata": {},
   "outputs": [
    {
     "data": {
      "text/html": [
       "<div>\n",
       "<style scoped>\n",
       "    .dataframe tbody tr th:only-of-type {\n",
       "        vertical-align: middle;\n",
       "    }\n",
       "\n",
       "    .dataframe tbody tr th {\n",
       "        vertical-align: top;\n",
       "    }\n",
       "\n",
       "    .dataframe thead th {\n",
       "        text-align: right;\n",
       "    }\n",
       "</style>\n",
       "<table border=\"1\" class=\"dataframe\">\n",
       "  <thead>\n",
       "    <tr style=\"text-align: right;\">\n",
       "      <th></th>\n",
       "      <th>Age</th>\n",
       "      <th>Income</th>\n",
       "      <th>Gender</th>\n",
       "      <th>Department</th>\n",
       "      <th>Purchased</th>\n",
       "      <th>Text</th>\n",
       "      <th>Ortho</th>\n",
       "      <th>Surgery</th>\n",
       "    </tr>\n",
       "  </thead>\n",
       "  <tbody>\n",
       "    <tr>\n",
       "      <th>0</th>\n",
       "      <td>42.0</td>\n",
       "      <td>21864</td>\n",
       "      <td>0</td>\n",
       "      <td>ICU</td>\n",
       "      <td>0</td>\n",
       "      <td>great product</td>\n",
       "      <td>False</td>\n",
       "      <td>False</td>\n",
       "    </tr>\n",
       "    <tr>\n",
       "      <th>1</th>\n",
       "      <td>69.0</td>\n",
       "      <td>29498</td>\n",
       "      <td>1</td>\n",
       "      <td>ICU</td>\n",
       "      <td>0</td>\n",
       "      <td>not good</td>\n",
       "      <td>False</td>\n",
       "      <td>False</td>\n",
       "    </tr>\n",
       "    <tr>\n",
       "      <th>2</th>\n",
       "      <td>46.0</td>\n",
       "      <td>59544</td>\n",
       "      <td>1</td>\n",
       "      <td>ICU</td>\n",
       "      <td>1</td>\n",
       "      <td>not good</td>\n",
       "      <td>False</td>\n",
       "      <td>False</td>\n",
       "    </tr>\n",
       "    <tr>\n",
       "      <th>3</th>\n",
       "      <td>32.0</td>\n",
       "      <td>36399</td>\n",
       "      <td>0</td>\n",
       "      <td>Ortho</td>\n",
       "      <td>1</td>\n",
       "      <td>not good</td>\n",
       "      <td>True</td>\n",
       "      <td>False</td>\n",
       "    </tr>\n",
       "    <tr>\n",
       "      <th>4</th>\n",
       "      <td>60.0</td>\n",
       "      <td>57140</td>\n",
       "      <td>0</td>\n",
       "      <td>Ortho</td>\n",
       "      <td>1</td>\n",
       "      <td>not good</td>\n",
       "      <td>True</td>\n",
       "      <td>False</td>\n",
       "    </tr>\n",
       "  </tbody>\n",
       "</table>\n",
       "</div>"
      ],
      "text/plain": [
       "    Age  Income  Gender Department  Purchased           Text  Ortho  Surgery\n",
       "0  42.0   21864       0        ICU          0  great product  False    False\n",
       "1  69.0   29498       1        ICU          0       not good  False    False\n",
       "2  46.0   59544       1        ICU          1       not good  False    False\n",
       "3  32.0   36399       0      Ortho          1       not good   True    False\n",
       "4  60.0   57140       0      Ortho          1       not good   True    False"
      ]
     },
     "execution_count": 4,
     "metadata": {},
     "output_type": "execute_result"
    }
   ],
   "source": [
    "df['Gender'] = LabelEncoder().fit_transform(df['Gender'])\n",
    "df = pd.concat([df, pd.get_dummies(df['Department'], drop_first=True)], axis=1)\n",
    "df.head()"
   ]
  },
  {
   "cell_type": "markdown",
   "id": "2441f90a",
   "metadata": {},
   "source": [
    "## 4️⃣ Feature Scaling"
   ]
  },
  {
   "cell_type": "code",
   "execution_count": 5,
   "id": "ee1db9a0",
   "metadata": {},
   "outputs": [
    {
     "data": {
      "text/html": [
       "<div>\n",
       "<style scoped>\n",
       "    .dataframe tbody tr th:only-of-type {\n",
       "        vertical-align: middle;\n",
       "    }\n",
       "\n",
       "    .dataframe tbody tr th {\n",
       "        vertical-align: top;\n",
       "    }\n",
       "\n",
       "    .dataframe thead th {\n",
       "        text-align: right;\n",
       "    }\n",
       "</style>\n",
       "<table border=\"1\" class=\"dataframe\">\n",
       "  <thead>\n",
       "    <tr style=\"text-align: right;\">\n",
       "      <th></th>\n",
       "      <th>Income</th>\n",
       "      <th>Income_scaled</th>\n",
       "    </tr>\n",
       "  </thead>\n",
       "  <tbody>\n",
       "    <tr>\n",
       "      <th>0</th>\n",
       "      <td>21864</td>\n",
       "      <td>-1.889793</td>\n",
       "    </tr>\n",
       "    <tr>\n",
       "      <th>1</th>\n",
       "      <td>29498</td>\n",
       "      <td>-1.387466</td>\n",
       "    </tr>\n",
       "    <tr>\n",
       "      <th>2</th>\n",
       "      <td>59544</td>\n",
       "      <td>0.589598</td>\n",
       "    </tr>\n",
       "    <tr>\n",
       "      <th>3</th>\n",
       "      <td>36399</td>\n",
       "      <td>-0.933372</td>\n",
       "    </tr>\n",
       "    <tr>\n",
       "      <th>4</th>\n",
       "      <td>57140</td>\n",
       "      <td>0.431412</td>\n",
       "    </tr>\n",
       "  </tbody>\n",
       "</table>\n",
       "</div>"
      ],
      "text/plain": [
       "   Income  Income_scaled\n",
       "0   21864      -1.889793\n",
       "1   29498      -1.387466\n",
       "2   59544       0.589598\n",
       "3   36399      -0.933372\n",
       "4   57140       0.431412"
      ]
     },
     "execution_count": 5,
     "metadata": {},
     "output_type": "execute_result"
    }
   ],
   "source": [
    "scaler = StandardScaler()\n",
    "df['Income_scaled'] = scaler.fit_transform(df[['Income']])\n",
    "df[['Income', 'Income_scaled']].head()"
   ]
  },
  {
   "cell_type": "markdown",
   "id": "374154d9",
   "metadata": {},
   "source": [
    "## 5️⃣ Text Vectorization - Bag of Words"
   ]
  },
  {
   "cell_type": "code",
   "execution_count": 6,
   "id": "1d3e9403",
   "metadata": {},
   "outputs": [
    {
     "data": {
      "text/html": [
       "<div>\n",
       "<style scoped>\n",
       "    .dataframe tbody tr th:only-of-type {\n",
       "        vertical-align: middle;\n",
       "    }\n",
       "\n",
       "    .dataframe tbody tr th {\n",
       "        vertical-align: top;\n",
       "    }\n",
       "\n",
       "    .dataframe thead th {\n",
       "        text-align: right;\n",
       "    }\n",
       "</style>\n",
       "<table border=\"1\" class=\"dataframe\">\n",
       "  <thead>\n",
       "    <tr style=\"text-align: right;\">\n",
       "      <th></th>\n",
       "      <th>bad</th>\n",
       "      <th>excellent</th>\n",
       "      <th>good</th>\n",
       "      <th>great</th>\n",
       "      <th>not</th>\n",
       "      <th>product</th>\n",
       "      <th>service</th>\n",
       "    </tr>\n",
       "  </thead>\n",
       "  <tbody>\n",
       "    <tr>\n",
       "      <th>0</th>\n",
       "      <td>0</td>\n",
       "      <td>0</td>\n",
       "      <td>0</td>\n",
       "      <td>1</td>\n",
       "      <td>0</td>\n",
       "      <td>1</td>\n",
       "      <td>0</td>\n",
       "    </tr>\n",
       "    <tr>\n",
       "      <th>1</th>\n",
       "      <td>0</td>\n",
       "      <td>0</td>\n",
       "      <td>1</td>\n",
       "      <td>0</td>\n",
       "      <td>1</td>\n",
       "      <td>0</td>\n",
       "      <td>0</td>\n",
       "    </tr>\n",
       "    <tr>\n",
       "      <th>2</th>\n",
       "      <td>0</td>\n",
       "      <td>0</td>\n",
       "      <td>1</td>\n",
       "      <td>0</td>\n",
       "      <td>1</td>\n",
       "      <td>0</td>\n",
       "      <td>0</td>\n",
       "    </tr>\n",
       "    <tr>\n",
       "      <th>3</th>\n",
       "      <td>0</td>\n",
       "      <td>0</td>\n",
       "      <td>1</td>\n",
       "      <td>0</td>\n",
       "      <td>1</td>\n",
       "      <td>0</td>\n",
       "      <td>0</td>\n",
       "    </tr>\n",
       "    <tr>\n",
       "      <th>4</th>\n",
       "      <td>0</td>\n",
       "      <td>0</td>\n",
       "      <td>1</td>\n",
       "      <td>0</td>\n",
       "      <td>1</td>\n",
       "      <td>0</td>\n",
       "      <td>0</td>\n",
       "    </tr>\n",
       "  </tbody>\n",
       "</table>\n",
       "</div>"
      ],
      "text/plain": [
       "   bad  excellent  good  great  not  product  service\n",
       "0    0          0     0      1    0        1        0\n",
       "1    0          0     1      0    1        0        0\n",
       "2    0          0     1      0    1        0        0\n",
       "3    0          0     1      0    1        0        0\n",
       "4    0          0     1      0    1        0        0"
      ]
     },
     "execution_count": 6,
     "metadata": {},
     "output_type": "execute_result"
    }
   ],
   "source": [
    "vectorizer = CountVectorizer()\n",
    "X_bow = vectorizer.fit_transform(df['Text'])\n",
    "pd.DataFrame(X_bow.toarray(), columns=vectorizer.get_feature_names_out()).head()"
   ]
  },
  {
   "cell_type": "markdown",
   "id": "ac341020",
   "metadata": {},
   "source": [
    "## 6️⃣ Text Vectorization - TF-IDF"
   ]
  },
  {
   "cell_type": "code",
   "execution_count": 7,
   "id": "23d4c4ec",
   "metadata": {},
   "outputs": [
    {
     "data": {
      "text/html": [
       "<div>\n",
       "<style scoped>\n",
       "    .dataframe tbody tr th:only-of-type {\n",
       "        vertical-align: middle;\n",
       "    }\n",
       "\n",
       "    .dataframe tbody tr th {\n",
       "        vertical-align: top;\n",
       "    }\n",
       "\n",
       "    .dataframe thead th {\n",
       "        text-align: right;\n",
       "    }\n",
       "</style>\n",
       "<table border=\"1\" class=\"dataframe\">\n",
       "  <thead>\n",
       "    <tr style=\"text-align: right;\">\n",
       "      <th></th>\n",
       "      <th>bad</th>\n",
       "      <th>excellent</th>\n",
       "      <th>good</th>\n",
       "      <th>great</th>\n",
       "      <th>not</th>\n",
       "      <th>product</th>\n",
       "      <th>service</th>\n",
       "    </tr>\n",
       "  </thead>\n",
       "  <tbody>\n",
       "    <tr>\n",
       "      <th>0</th>\n",
       "      <td>0.0</td>\n",
       "      <td>0.0</td>\n",
       "      <td>0.000000</td>\n",
       "      <td>0.707107</td>\n",
       "      <td>0.000000</td>\n",
       "      <td>0.707107</td>\n",
       "      <td>0.0</td>\n",
       "    </tr>\n",
       "    <tr>\n",
       "      <th>1</th>\n",
       "      <td>0.0</td>\n",
       "      <td>0.0</td>\n",
       "      <td>0.707107</td>\n",
       "      <td>0.000000</td>\n",
       "      <td>0.707107</td>\n",
       "      <td>0.000000</td>\n",
       "      <td>0.0</td>\n",
       "    </tr>\n",
       "    <tr>\n",
       "      <th>2</th>\n",
       "      <td>0.0</td>\n",
       "      <td>0.0</td>\n",
       "      <td>0.707107</td>\n",
       "      <td>0.000000</td>\n",
       "      <td>0.707107</td>\n",
       "      <td>0.000000</td>\n",
       "      <td>0.0</td>\n",
       "    </tr>\n",
       "    <tr>\n",
       "      <th>3</th>\n",
       "      <td>0.0</td>\n",
       "      <td>0.0</td>\n",
       "      <td>0.707107</td>\n",
       "      <td>0.000000</td>\n",
       "      <td>0.707107</td>\n",
       "      <td>0.000000</td>\n",
       "      <td>0.0</td>\n",
       "    </tr>\n",
       "    <tr>\n",
       "      <th>4</th>\n",
       "      <td>0.0</td>\n",
       "      <td>0.0</td>\n",
       "      <td>0.707107</td>\n",
       "      <td>0.000000</td>\n",
       "      <td>0.707107</td>\n",
       "      <td>0.000000</td>\n",
       "      <td>0.0</td>\n",
       "    </tr>\n",
       "  </tbody>\n",
       "</table>\n",
       "</div>"
      ],
      "text/plain": [
       "   bad  excellent      good     great       not   product  service\n",
       "0  0.0        0.0  0.000000  0.707107  0.000000  0.707107      0.0\n",
       "1  0.0        0.0  0.707107  0.000000  0.707107  0.000000      0.0\n",
       "2  0.0        0.0  0.707107  0.000000  0.707107  0.000000      0.0\n",
       "3  0.0        0.0  0.707107  0.000000  0.707107  0.000000      0.0\n",
       "4  0.0        0.0  0.707107  0.000000  0.707107  0.000000      0.0"
      ]
     },
     "execution_count": 7,
     "metadata": {},
     "output_type": "execute_result"
    }
   ],
   "source": [
    "tfidf = TfidfVectorizer()\n",
    "X_tfidf = tfidf.fit_transform(df['Text'])\n",
    "pd.DataFrame(X_tfidf.toarray(), columns=tfidf.get_feature_names_out()).head()"
   ]
  },
  {
   "cell_type": "markdown",
   "id": "65887c49",
   "metadata": {},
   "source": [
    "## 7️⃣ Polynomial Feature Generation"
   ]
  },
  {
   "cell_type": "code",
   "execution_count": 8,
   "id": "823637b3",
   "metadata": {},
   "outputs": [
    {
     "data": {
      "text/html": [
       "<div>\n",
       "<style scoped>\n",
       "    .dataframe tbody tr th:only-of-type {\n",
       "        vertical-align: middle;\n",
       "    }\n",
       "\n",
       "    .dataframe tbody tr th {\n",
       "        vertical-align: top;\n",
       "    }\n",
       "\n",
       "    .dataframe thead th {\n",
       "        text-align: right;\n",
       "    }\n",
       "</style>\n",
       "<table border=\"1\" class=\"dataframe\">\n",
       "  <thead>\n",
       "    <tr style=\"text-align: right;\">\n",
       "      <th></th>\n",
       "      <th>Age</th>\n",
       "      <th>Age_squared</th>\n",
       "    </tr>\n",
       "  </thead>\n",
       "  <tbody>\n",
       "    <tr>\n",
       "      <th>0</th>\n",
       "      <td>42.0</td>\n",
       "      <td>1764.0</td>\n",
       "    </tr>\n",
       "    <tr>\n",
       "      <th>1</th>\n",
       "      <td>69.0</td>\n",
       "      <td>4761.0</td>\n",
       "    </tr>\n",
       "    <tr>\n",
       "      <th>2</th>\n",
       "      <td>46.0</td>\n",
       "      <td>2116.0</td>\n",
       "    </tr>\n",
       "    <tr>\n",
       "      <th>3</th>\n",
       "      <td>32.0</td>\n",
       "      <td>1024.0</td>\n",
       "    </tr>\n",
       "    <tr>\n",
       "      <th>4</th>\n",
       "      <td>60.0</td>\n",
       "      <td>3600.0</td>\n",
       "    </tr>\n",
       "  </tbody>\n",
       "</table>\n",
       "</div>"
      ],
      "text/plain": [
       "    Age  Age_squared\n",
       "0  42.0       1764.0\n",
       "1  69.0       4761.0\n",
       "2  46.0       2116.0\n",
       "3  32.0       1024.0\n",
       "4  60.0       3600.0"
      ]
     },
     "execution_count": 8,
     "metadata": {},
     "output_type": "execute_result"
    }
   ],
   "source": [
    "df['Age_squared'] = df['Age'] ** 2\n",
    "df[['Age', 'Age_squared']].head()"
   ]
  },
  {
   "cell_type": "markdown",
   "id": "d9c6f1e0",
   "metadata": {},
   "source": [
    "## 8️⃣ Feature Binning"
   ]
  },
  {
   "cell_type": "code",
   "execution_count": 9,
   "id": "46182429",
   "metadata": {},
   "outputs": [
    {
     "data": {
      "text/html": [
       "<div>\n",
       "<style scoped>\n",
       "    .dataframe tbody tr th:only-of-type {\n",
       "        vertical-align: middle;\n",
       "    }\n",
       "\n",
       "    .dataframe tbody tr th {\n",
       "        vertical-align: top;\n",
       "    }\n",
       "\n",
       "    .dataframe thead th {\n",
       "        text-align: right;\n",
       "    }\n",
       "</style>\n",
       "<table border=\"1\" class=\"dataframe\">\n",
       "  <thead>\n",
       "    <tr style=\"text-align: right;\">\n",
       "      <th></th>\n",
       "      <th>Income</th>\n",
       "      <th>Income_bin</th>\n",
       "    </tr>\n",
       "  </thead>\n",
       "  <tbody>\n",
       "    <tr>\n",
       "      <th>0</th>\n",
       "      <td>21864</td>\n",
       "      <td>Low</td>\n",
       "    </tr>\n",
       "    <tr>\n",
       "      <th>1</th>\n",
       "      <td>29498</td>\n",
       "      <td>Low</td>\n",
       "    </tr>\n",
       "    <tr>\n",
       "      <th>2</th>\n",
       "      <td>59544</td>\n",
       "      <td>Medium</td>\n",
       "    </tr>\n",
       "    <tr>\n",
       "      <th>3</th>\n",
       "      <td>36399</td>\n",
       "      <td>Low</td>\n",
       "    </tr>\n",
       "    <tr>\n",
       "      <th>4</th>\n",
       "      <td>57140</td>\n",
       "      <td>Medium</td>\n",
       "    </tr>\n",
       "  </tbody>\n",
       "</table>\n",
       "</div>"
      ],
      "text/plain": [
       "   Income Income_bin\n",
       "0   21864        Low\n",
       "1   29498        Low\n",
       "2   59544     Medium\n",
       "3   36399        Low\n",
       "4   57140     Medium"
      ]
     },
     "execution_count": 9,
     "metadata": {},
     "output_type": "execute_result"
    }
   ],
   "source": [
    "df['Income_bin'] = pd.cut(df['Income'], bins=3, labels=['Low', 'Medium', 'High'])\n",
    "df[['Income', 'Income_bin']].head()"
   ]
  },
  {
   "cell_type": "markdown",
   "id": "88aebbf2",
   "metadata": {},
   "source": [
    "## 9️⃣ PCA for Dimensionality Reduction"
   ]
  },
  {
   "cell_type": "code",
   "execution_count": 10,
   "id": "1a88ee10",
   "metadata": {},
   "outputs": [
    {
     "data": {
      "image/png": "[encoded data removed]",
      "text/plain": [
       "<Figure size 600x400 with 1 Axes>"
      ]
     },
     "metadata": {},
     "output_type": "display_data"
    }
   ],
   "source": [
    "X = df[['Age', 'Income_scaled']].dropna()\n",
    "pca = PCA(n_components=2)\n",
    "pca_data = pca.fit_transform(X)\n",
    "df['PC1'], df['PC2'] = pca_data[:, 0], pca_data[:, 1]\n",
    "\n",
    "plt.figure(figsize=(6,4))\n",
    "plt.scatter(df['PC1'], df['PC2'], c=df['Purchased'], cmap='coolwarm')\n",
    "plt.xlabel(\"PC1\")\n",
    "plt.ylabel(\"PC2\")\n",
    "plt.title(\"PCA Components\")\n",
    "plt.grid(True)\n",
    "plt.show()"
   ]
  },
  {
   "cell_type": "markdown",
   "id": "077de3c3",
   "metadata": {},
   "source": [
    "## 🔟 Feature Interaction Terms"
   ]
  },
  {
   "cell_type": "code",
   "execution_count": 11,
   "id": "bcc1eaa2",
   "metadata": {},
   "outputs": [
    {
     "data": {
      "text/html": [
       "<div>\n",
       "<style scoped>\n",
       "    .dataframe tbody tr th:only-of-type {\n",
       "        vertical-align: middle;\n",
       "    }\n",
       "\n",
       "    .dataframe tbody tr th {\n",
       "        vertical-align: top;\n",
       "    }\n",
       "\n",
       "    .dataframe thead th {\n",
       "        text-align: right;\n",
       "    }\n",
       "</style>\n",
       "<table border=\"1\" class=\"dataframe\">\n",
       "  <thead>\n",
       "    <tr style=\"text-align: right;\">\n",
       "      <th></th>\n",
       "      <th>Age</th>\n",
       "      <th>Income_scaled</th>\n",
       "      <th>Age_Income_Interaction</th>\n",
       "    </tr>\n",
       "  </thead>\n",
       "  <tbody>\n",
       "    <tr>\n",
       "      <th>0</th>\n",
       "      <td>42.0</td>\n",
       "      <td>-1.889793</td>\n",
       "      <td>-79.371314</td>\n",
       "    </tr>\n",
       "    <tr>\n",
       "      <th>1</th>\n",
       "      <td>69.0</td>\n",
       "      <td>-1.387466</td>\n",
       "      <td>-95.735178</td>\n",
       "    </tr>\n",
       "    <tr>\n",
       "      <th>2</th>\n",
       "      <td>46.0</td>\n",
       "      <td>0.589598</td>\n",
       "      <td>27.121526</td>\n",
       "    </tr>\n",
       "    <tr>\n",
       "      <th>3</th>\n",
       "      <td>32.0</td>\n",
       "      <td>-0.933372</td>\n",
       "      <td>-29.867899</td>\n",
       "    </tr>\n",
       "    <tr>\n",
       "      <th>4</th>\n",
       "      <td>60.0</td>\n",
       "      <td>0.431412</td>\n",
       "      <td>25.884730</td>\n",
       "    </tr>\n",
       "  </tbody>\n",
       "</table>\n",
       "</div>"
      ],
      "text/plain": [
       "    Age  Income_scaled  Age_Income_Interaction\n",
       "0  42.0      -1.889793              -79.371314\n",
       "1  69.0      -1.387466              -95.735178\n",
       "2  46.0       0.589598               27.121526\n",
       "3  32.0      -0.933372              -29.867899\n",
       "4  60.0       0.431412               25.884730"
      ]
     },
     "execution_count": 11,
     "metadata": {},
     "output_type": "execute_result"
    }
   ],
   "source": [
    "df['Age_Income_Interaction'] = df['Age'] * df['Income_scaled']\n",
    "df[['Age', 'Income_scaled', 'Age_Income_Interaction']].head()"
   ]
  },
  {
   "cell_type": "markdown",
   "id": "22d86c6c",
   "metadata": {},
   "source": [
    "## 1️⃣1️⃣ Variance Threshold Feature Selection"
   ]
  },
  {
   "cell_type": "code",
   "execution_count": 12,
   "id": "6c2c63ec",
   "metadata": {},
   "outputs": [
    {
     "name": "stdout",
     "output_type": "stream",
     "text": [
      "Remaining columns: ['Age' 'Income_scaled' 'Gender']\n"
     ]
    }
   ],
   "source": [
    "vt = VarianceThreshold(threshold=0.01)\n",
    "selected = vt.fit_transform(df[['Age', 'Income_scaled', 'Gender']])\n",
    "print(\"Remaining columns:\", vt.get_feature_names_out(['Age', 'Income_scaled', 'Gender']))"
   ]
  },
  {
   "cell_type": "markdown",
   "id": "7f014e9e",
   "metadata": {},
   "source": [
    "## 1️⃣2️⃣ Correlation Heatmap"
   ]
  },
  {
   "cell_type": "code",
   "execution_count": 13,
   "id": "49ce512c",
   "metadata": {},
   "outputs": [
    {
     "data": {
      "image/png": "[encoded data removed]",
      "text/plain": [
       "<Figure size 800x500 with 2 Axes>"
      ]
     },
     "metadata": {},
     "output_type": "display_data"
    }
   ],
   "source": [
    "corr = df.corr(numeric_only=True)\n",
    "plt.figure(figsize=(8, 5))\n",
    "sns.heatmap(corr, annot=True, cmap='coolwarm')\n",
    "plt.title(\"Correlation Matrix\")\n",
    "plt.show()"
   ]
  },
  {
   "cell_type": "markdown",
   "id": "529c0d7b",
   "metadata": {},
   "source": [
    "## 1️⃣3️⃣ Mutual Information"
   ]
  },
  {
   "cell_type": "code",
   "execution_count": 14,
   "id": "07573fd2",
   "metadata": {},
   "outputs": [
    {
     "name": "stdout",
     "output_type": "stream",
     "text": [
      "Age: 0.0000\n",
      "Income_scaled: 0.0000\n",
      "Gender: 0.0783\n"
     ]
    }
   ],
   "source": [
    "X = df[['Age', 'Income_scaled', 'Gender']]\n",
    "y = df['Purchased']\n",
    "mi = mutual_info_classif(X, y)\n",
    "for feature, score in zip(X.columns, mi):\n",
    "    print(f\"{feature}: {score:.4f}\")"
   ]
  },
  {
   "cell_type": "markdown",
   "id": "fc2fa783",
   "metadata": {},
   "source": [
    "## 1️⃣4️⃣ ANOVA F-Score"
   ]
  },
  {
   "cell_type": "code",
   "execution_count": 15,
   "id": "cbed1f49",
   "metadata": {},
   "outputs": [
    {
     "name": "stdout",
     "output_type": "stream",
     "text": [
      "Age: 1.7293\n",
      "Income_scaled: 0.2529\n",
      "Gender: 0.0166\n"
     ]
    }
   ],
   "source": [
    "f_scores = f_classif(X, y)[0]\n",
    "for feature, score in zip(X.columns, f_scores):\n",
    "    print(f\"{feature}: {score:.4f}\")"
   ]
  },
  {
   "cell_type": "markdown",
   "id": "89c8b73f",
   "metadata": {},
   "source": [
    "## 1️⃣5️⃣ Random Forest Feature Importance"
   ]
  },
  {
   "cell_type": "code",
   "execution_count": 16,
   "id": "58d2c688",
   "metadata": {},
   "outputs": [
    {
     "name": "stdout",
     "output_type": "stream",
     "text": [
      "Age: 0.4198\n",
      "Income_scaled: 0.5527\n",
      "Gender: 0.0275\n"
     ]
    }
   ],
   "source": [
    "model = RandomForestClassifier(n_estimators=100, random_state=42)\n",
    "model.fit(X, y)\n",
    "for feature, score in zip(X.columns, model.feature_importances_):\n",
    "    print(f\"{feature}: {score:.4f}\")"
   ]
  },
  {
   "cell_type": "code",
   "execution_count": null,
   "id": "bcbb5098-3816-49e9-a2d9-a37762332f12",
   "metadata": {},
   "outputs": [],
   "source": []
  }
 ],
 "metadata": {
  "kernelspec": {
   "display_name": "Python 3 (ipykernel)",
   "language": "python",
   "name": "python3"
  },
  "language_info": {
   "codemirror_mode": {
    "name": "ipython",
    "version": 3
   },
   "file_extension": ".py",
   "mimetype": "text/x-python",
   "name": "python",
   "nbconvert_exporter": "python",
   "pygments_lexer": "ipython3",
   "version": "3.13.2"
  }
 },
 "nbformat": 4,
 "nbformat_minor": 5
}
