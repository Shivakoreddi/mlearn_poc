{
 "cells": [
  {
   "cell_type": "markdown",
   "id": "5bbd0aff",
   "metadata": {},
   "source": [
    "# 🚀 Complete Feature Engineering Workbook\n",
    "Generated on 2025-04-18 04:36"
   ]
  },
  {
   "cell_type": "code",
   "execution_count": null,
   "id": "1c083ff0",
   "metadata": {},
   "outputs": [],
   "source": [
    "import pandas as pd\n",
    "import numpy as np\n",
    "import matplotlib.pyplot as plt\n",
    "import seaborn as sns\n",
    "from sklearn.preprocessing import LabelEncoder, StandardScaler, MinMaxScaler, PolynomialFeatures\n",
    "from sklearn.feature_extraction.text import CountVectorizer, TfidfVectorizer\n",
    "from sklearn.decomposition import PCA\n",
    "from sklearn.feature_selection import SelectKBest, mutual_info_classif, f_classif, VarianceThreshold\n",
    "from sklearn.ensemble import RandomForestClassifier\n",
    "from sklearn.model_selection import train_test_split\n",
    "np.random.seed(42)"
   ]
  },
  {
   "cell_type": "markdown",
   "id": "39817d8e",
   "metadata": {},
   "source": [
    "## 1️⃣ Creating a Synthetic Dataset"
   ]
  },
  {
   "cell_type": "code",
   "execution_count": null,
   "id": "d6aaae7f",
   "metadata": {},
   "outputs": [],
   "source": [
    "df = pd.DataFrame({\n",
    "    'Age': np.random.randint(18, 70, 100),\n",
    "    'Income': np.random.normal(50000, 15000, 100).astype(int),\n",
    "    'Gender': np.random.choice(['Male', 'Female'], 100),\n",
    "    'Department': np.random.choice(['ICU', 'Surgery', 'Ortho'], 100),\n",
    "    'Purchased': np.random.choice([0, 1], 100),\n",
    "    'Text': np.random.choice(['great product', 'bad service', 'excellent', 'not good'], 100)\n",
    "})\n",
    "df.head()"
   ]
  },
  {
   "cell_type": "markdown",
   "id": "4feb768d",
   "metadata": {},
   "source": [
    "## 2️⃣ Handling Missing Values"
   ]
  },
  {
   "cell_type": "code",
   "execution_count": null,
   "id": "f9635537",
   "metadata": {},
   "outputs": [],
   "source": [
    "df.loc[::10, 'Age'] = np.nan\n",
    "df['Age'] = df['Age'].fillna(df['Age'].median())\n",
    "df['Income'] = df['Income'].fillna(df['Income'].mean())\n",
    "df.head(10)"
   ]
  },
  {
   "cell_type": "markdown",
   "id": "d416a0a7",
   "metadata": {},
   "source": [
    "## 3️⃣ Label and One-Hot Encoding"
   ]
  },
  {
   "cell_type": "code",
   "execution_count": null,
   "id": "a57cb21a",
   "metadata": {},
   "outputs": [],
   "source": [
    "df['Gender'] = LabelEncoder().fit_transform(df['Gender'])\n",
    "df = pd.concat([df, pd.get_dummies(df['Department'], drop_first=True)], axis=1)\n",
    "df.head()"
   ]
  },
  {
   "cell_type": "markdown",
   "id": "2441f90a",
   "metadata": {},
   "source": [
    "## 4️⃣ Feature Scaling"
   ]
  },
  {
   "cell_type": "code",
   "execution_count": null,
   "id": "ee1db9a0",
   "metadata": {},
   "outputs": [],
   "source": [
    "scaler = StandardScaler()\n",
    "df['Income_scaled'] = scaler.fit_transform(df[['Income']])\n",
    "df[['Income', 'Income_scaled']].head()"
   ]
  },
  {
   "cell_type": "markdown",
   "id": "374154d9",
   "metadata": {},
   "source": [
    "## 5️⃣ Text Vectorization - Bag of Words"
   ]
  },
  {
   "cell_type": "code",
   "execution_count": null,
   "id": "1d3e9403",
   "metadata": {},
   "outputs": [],
   "source": [
    "vectorizer = CountVectorizer()\n",
    "X_bow = vectorizer.fit_transform(df['Text'])\n",
    "pd.DataFrame(X_bow.toarray(), columns=vectorizer.get_feature_names_out()).head()"
   ]
  },
  {
   "cell_type": "markdown",
   "id": "ac341020",
   "metadata": {},
   "source": [
    "## 6️⃣ Text Vectorization - TF-IDF"
   ]
  },
  {
   "cell_type": "code",
   "execution_count": null,
   "id": "23d4c4ec",
   "metadata": {},
   "outputs": [],
   "source": [
    "tfidf = TfidfVectorizer()\n",
    "X_tfidf = tfidf.fit_transform(df['Text'])\n",
    "pd.DataFrame(X_tfidf.toarray(), columns=tfidf.get_feature_names_out()).head()"
   ]
  },
  {
   "cell_type": "markdown",
   "id": "65887c49",
   "metadata": {},
   "source": [
    "## 7️⃣ Polynomial Feature Generation"
   ]
  },
  {
   "cell_type": "code",
   "execution_count": null,
   "id": "823637b3",
   "metadata": {},
   "outputs": [],
   "source": [
    "df['Age_squared'] = df['Age'] ** 2\n",
    "df[['Age', 'Age_squared']].head()"
   ]
  },
  {
   "cell_type": "markdown",
   "id": "d9c6f1e0",
   "metadata": {},
   "source": [
    "## 8️⃣ Feature Binning"
   ]
  },
  {
   "cell_type": "code",
   "execution_count": null,
   "id": "46182429",
   "metadata": {},
   "outputs": [],
   "source": [
    "df['Income_bin'] = pd.cut(df['Income'], bins=3, labels=['Low', 'Medium', 'High'])\n",
    "df[['Income', 'Income_bin']].head()"
   ]
  },
  {
   "cell_type": "markdown",
   "id": "88aebbf2",
   "metadata": {},
   "source": [
    "## 9️⃣ PCA for Dimensionality Reduction"
   ]
  },
  {
   "cell_type": "code",
   "execution_count": null,
   "id": "1a88ee10",
   "metadata": {},
   "outputs": [],
   "source": [
    "X = df[['Age', 'Income_scaled']].dropna()\n",
    "pca = PCA(n_components=2)\n",
    "pca_data = pca.fit_transform(X)\n",
    "df['PC1'], df['PC2'] = pca_data[:, 0], pca_data[:, 1]\n",
    "\n",
    "plt.figure(figsize=(6,4))\n",
    "plt.scatter(df['PC1'], df['PC2'], c=df['Purchased'], cmap='coolwarm')\n",
    "plt.xlabel(\"PC1\")\n",
    "plt.ylabel(\"PC2\")\n",
    "plt.title(\"PCA Components\")\n",
    "plt.grid(True)\n",
    "plt.show()"
   ]
  },
  {
   "cell_type": "markdown",
   "id": "077de3c3",
   "metadata": {},
   "source": [
    "## 🔟 Feature Interaction Terms"
   ]
  },
  {
   "cell_type": "code",
   "execution_count": null,
   "id": "bcc1eaa2",
   "metadata": {},
   "outputs": [],
   "source": [
    "df['Age_Income_Interaction'] = df['Age'] * df['Income_scaled']\n",
    "df[['Age', 'Income_scaled', 'Age_Income_Interaction']].head()"
   ]
  },
  {
   "cell_type": "markdown",
   "id": "22d86c6c",
   "metadata": {},
   "source": [
    "## 1️⃣1️⃣ Variance Threshold Feature Selection"
   ]
  },
  {
   "cell_type": "code",
   "execution_count": null,
   "id": "6c2c63ec",
   "metadata": {},
   "outputs": [],
   "source": [
    "vt = VarianceThreshold(threshold=0.01)\n",
    "selected = vt.fit_transform(df[['Age', 'Income_scaled', 'Gender']])\n",
    "print(\"Remaining columns:\", vt.get_feature_names_out(['Age', 'Income_scaled', 'Gender']))"
   ]
  },
  {
   "cell_type": "markdown",
   "id": "7f014e9e",
   "metadata": {},
   "source": [
    "## 1️⃣2️⃣ Correlation Heatmap"
   ]
  },
  {
   "cell_type": "code",
   "execution_count": null,
   "id": "49ce512c",
   "metadata": {},
   "outputs": [],
   "source": [
    "corr = df.corr(numeric_only=True)\n",
    "plt.figure(figsize=(8, 5))\n",
    "sns.heatmap(corr, annot=True, cmap='coolwarm')\n",
    "plt.title(\"Correlation Matrix\")\n",
    "plt.show()"
   ]
  },
  {
   "cell_type": "markdown",
   "id": "529c0d7b",
   "metadata": {},
   "source": [
    "## 1️⃣3️⃣ Mutual Information"
   ]
  },
  {
   "cell_type": "code",
   "execution_count": null,
   "id": "07573fd2",
   "metadata": {},
   "outputs": [],
   "source": [
    "X = df[['Age', 'Income_scaled', 'Gender']]\n",
    "y = df['Purchased']\n",
    "mi = mutual_info_classif(X, y)\n",
    "for feature, score in zip(X.columns, mi):\n",
    "    print(f\"{feature}: {score:.4f}\")"
   ]
  },
  {
   "cell_type": "markdown",
   "id": "fc2fa783",
   "metadata": {},
   "source": [
    "## 1️⃣4️⃣ ANOVA F-Score"
   ]
  },
  {
   "cell_type": "code",
   "execution_count": null,
   "id": "cbed1f49",
   "metadata": {},
   "outputs": [],
   "source": [
    "f_scores = f_classif(X, y)[0]\n",
    "for feature, score in zip(X.columns, f_scores):\n",
    "    print(f\"{feature}: {score:.4f}\")"
   ]
  },
  {
   "cell_type": "markdown",
   "id": "89c8b73f",
   "metadata": {},
   "source": [
    "## 1️⃣5️⃣ Random Forest Feature Importance"
   ]
  },
  {
   "cell_type": "code",
   "execution_count": null,
   "id": "58d2c688",
   "metadata": {},
   "outputs": [],
   "source": [
    "model = RandomForestClassifier(n_estimators=100, random_state=42)\n",
    "model.fit(X, y)\n",
    "for feature, score in zip(X.columns, model.feature_importances_):\n",
    "    print(f\"{feature}: {score:.4f}\")"
   ]
  }
 ],
 "metadata": {},
 "nbformat": 4,
 "nbformat_minor": 5
}
