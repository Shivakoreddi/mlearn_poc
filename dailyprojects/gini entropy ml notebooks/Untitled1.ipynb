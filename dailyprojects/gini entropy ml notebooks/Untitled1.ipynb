{
 "cells": [
  {
   "cell_type": "code",
   "execution_count": 4,
   "id": "68a945cd-83ba-4b83-8b1a-aca168fda324",
   "metadata": {},
   "outputs": [
    {
     "name": "stdout",
     "output_type": "stream",
     "text": [
      "[0, 1, 2, 3, 4, 5, 6, 7, 8, 9]\n",
      "[88, 88, 88, 88, 120, 120, 120, 120, 184, 184]\n"
     ]
    }
   ],
   "source": [
    "##DataStrcutures\n",
    "\n",
    "##Array\n",
    "\n",
    "import sys\n",
    "\n",
    "a = []\n",
    "b = []\n",
    "for i in range(10):\n",
    "    a.append(i)\n",
    "    b.append(sys.getsizeof(a))\n",
    "print(a)\n",
    "print(b)"
   ]
  },
  {
   "cell_type": "code",
   "execution_count": 10,
   "id": "61f0c557-d250-49a8-9813-423a732aff6d",
   "metadata": {},
   "outputs": [
    {
     "name": "stdout",
     "output_type": "stream",
     "text": [
      "9\n",
      "[10]\n"
     ]
    }
   ],
   "source": [
    "##Reverse of an array\n",
    "i = len(a)\n",
    "d = []\n",
    "\n",
    "while i>=len(a):\n",
    "    d.append(i)\n",
    "    i = i-1\n",
    "    print(i)\n",
    "\n",
    "\n",
    "print(d)\n",
    "    "
   ]
  },
  {
   "cell_type": "code",
   "execution_count": 16,
   "id": "51cb5e24-9bcb-492d-8fdb-c759527b2967",
   "metadata": {},
   "outputs": [
    {
     "name": "stdout",
     "output_type": "stream",
     "text": [
      "[9, 8, 7, 6, 5, 4, 3, 2, 1, 0]\n"
     ]
    }
   ],
   "source": [
    "d = a[::-1]\n",
    "print(d)"
   ]
  },
  {
   "cell_type": "code",
   "execution_count": null,
   "id": "e2f2ad9e-4658-41ae-a6fa-ae56ccf18a9a",
   "metadata": {},
   "outputs": [],
   "source": []
  }
 ],
 "metadata": {
  "kernelspec": {
   "display_name": "Python 3 (ipykernel)",
   "language": "python",
   "name": "python3"
  },
  "language_info": {
   "codemirror_mode": {
    "name": "ipython",
    "version": 3
   },
   "file_extension": ".py",
   "mimetype": "text/x-python",
   "name": "python",
   "nbconvert_exporter": "python",
   "pygments_lexer": "ipython3",
   "version": "3.13.2"
  }
 },
 "nbformat": 4,
 "nbformat_minor": 5
}
