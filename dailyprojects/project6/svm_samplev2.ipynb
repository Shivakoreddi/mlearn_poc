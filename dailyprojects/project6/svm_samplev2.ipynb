{
 "cells": [
  {
   "cell_type": "code",
   "execution_count": 4,
   "id": "d45bc92c-a00f-4db0-9a17-6e9be0de163d",
   "metadata": {},
   "outputs": [],
   "source": [
    "##Breast Cancer Wisconson\n",
    "##Problem - Predict with given data wheather a tumor is malignant(1) or bengin(0)"
   ]
  },
  {
   "cell_type": "code",
   "execution_count": 14,
   "id": "6e1a66b6-5b41-4799-a84b-2475ff0c35b3",
   "metadata": {},
   "outputs": [],
   "source": [
    "\n",
    "import numpy as np\n",
    "from sklearn.datasets import load_breast_cancer\n",
    "import pandas as pd\n",
    "\n",
    "data = load_breast_cancer()\n",
    "X = pd.DataFrame(data.data, columns=data.feature_names)\n",
    "y = pd.Series(data.target)   \n",
    "##print(X.head(5))"
   ]
  },
  {
   "cell_type": "raw",
   "id": "a1392631-c158-4120-ad5d-e5c742e0aa29",
   "metadata": {},
   "source": [
    "##split the data into three chunks"
   ]
  },
  {
   "cell_type": "code",
   "execution_count": 21,
   "id": "11088bcb-2373-4070-a72c-9c4e5a77de01",
   "metadata": {},
   "outputs": [],
   "source": [
    "from sklearn.model_selection import train_test_split\n",
    "x_train,x_test,y_train,y_test = train_test_split(X,y,test_size=0.20,stratify=y,random_state=42)"
   ]
  },
  {
   "cell_type": "code",
   "execution_count": 22,
   "id": "fd1c8ddc-aa9d-4c3d-a651-29c1d809edec",
   "metadata": {},
   "outputs": [],
   "source": [
    "##Baseline pipeline - svm\n",
    "from sklearn.pipeline import make_pipeline\n",
    "from sklearn.preprocessing import StandardScaler\n",
    "from sklearn.svm import SVC\n",
    "\n",
    "baseline = make_pipeline(StandardScaler(),\n",
    "                         SVC(kernel='linear',C=1,probability=True,random_state=42)\n",
    "                   )\n"
   ]
  },
  {
   "cell_type": "code",
   "execution_count": 23,
   "id": "e7ff85ba-2e71-4d99-a6b7-02b8fc830a19",
   "metadata": {},
   "outputs": [
    {
     "name": "stdout",
     "output_type": "stream",
     "text": [
      "0.9648351648351647\n",
      "0.9947368421052631\n"
     ]
    }
   ],
   "source": [
    "##Cross validate the baseline\n",
    "\n",
    "from sklearn.model_selection import StratifiedKFold,cross_validate\n",
    "cv = StratifiedKFold(n_splits=5,shuffle=True,random_state=42)\n",
    "\n",
    "scores = cross_validate(baseline,x_train,y_train,cv=cv,\n",
    "                       scoring = ['accuracy','roc_auc'],\n",
    "                       return_train_score = False)\n",
    "print(scores['test_accuracy'].mean())\n",
    "print(scores['test_roc_auc'].mean())"
   ]
  },
  {
   "cell_type": "code",
   "execution_count": 28,
   "id": "22e86cc4-0b8a-4a6d-b6d7-ead934e315e9",
   "metadata": {},
   "outputs": [
    {
     "name": "stdout",
     "output_type": "stream",
     "text": [
      "Fitting 5 folds for each of 30 candidates, totalling 150 fits\n",
      "{'svc__C': np.float64(10.0), 'svc__gamma': np.float64(0.01), 'svc__kernel': 'rbf'}\n",
      "0.9963880288957689\n"
     ]
    }
   ],
   "source": [
    "##Hypertunning\n",
    "\n",
    "##Explore kernel - linear vs rbf\n",
    "from sklearn.model_selection import GridSearchCV\n",
    "import numpy as np\n",
    "\n",
    "param_grid=[\n",
    "    {'svc__kernel':['linear'],\n",
    "    'svc__C':np.logspace(-2,2,5)},\n",
    "    {'svc__kernel':['rbf'],\n",
    "    'svc__C':np.logspace(-2,2,5),\n",
    "    'svc__gamma':np.logspace(-3,1,5)}\n",
    "    \n",
    "]\n",
    "\n",
    "grid = GridSearchCV(baseline,\n",
    "                   param_grid=param_grid,\n",
    "                   cv=cv,\n",
    "                   scoring='roc_auc',\n",
    "                   n_jobs=-1,verbose=1)\n",
    "grid.fit(x_train,y_train)\n",
    "print(grid.best_params_)\n",
    "print(grid.best_score_)\n",
    "\n",
    "best_model = grid.best_estimator_\n",
    "\n"
   ]
  },
  {
   "cell_type": "code",
   "execution_count": 31,
   "id": "08ae7a71-3dc9-40f9-9b15-9c154778703d",
   "metadata": {},
   "outputs": [
    {
     "name": "stdout",
     "output_type": "stream",
     "text": [
      "Accuracy: 0.9824561403508771\n",
      "Precision: 0.9861111111111112\n",
      "Recall: 0.9861111111111112\n",
      "f1: 0.9861111111111112\n",
      "roc_auc: 0.9976851851851851\n",
      "confusion_matrix: [[41  1]\n",
      " [ 1 71]]\n"
     ]
    }
   ],
   "source": [
    "##Final evaluation on untouched test set\n",
    "\n",
    "from sklearn.metrics import (accuracy_score,precision_score,recall_score,\n",
    "f1_score,roc_auc_score,confusion_matrix,RocCurveDisplay)\n",
    "\n",
    "y_pred = best_model.predict(x_test)\n",
    "y_prob = best_model.predict_proba(x_test)[:,1]\n",
    "\n",
    "print(\"Accuracy:\",accuracy_score(y_test,y_pred))\n",
    "print(\"Precision:\",precision_score(y_test,y_pred))\n",
    "print(\"Recall:\",recall_score(y_test,y_pred))\n",
    "print(\"f1:\",f1_score(y_test,y_pred))\n",
    "print(\"roc_auc:\",roc_auc_score(y_test,y_prob))\n",
    "print(\"confusion_matrix:\",confusion_matrix(y_test,y_pred))"
   ]
  },
  {
   "cell_type": "code",
   "execution_count": null,
   "id": "e3869b23-aff7-4597-b702-51b0d5c06b12",
   "metadata": {},
   "outputs": [],
   "source": []
  }
 ],
 "metadata": {
  "kernelspec": {
   "display_name": "Python 3 (ipykernel)",
   "language": "python",
   "name": "python3"
  },
  "language_info": {
   "codemirror_mode": {
    "name": "ipython",
    "version": 3
   },
   "file_extension": ".py",
   "mimetype": "text/x-python",
   "name": "python",
   "nbconvert_exporter": "python",
   "pygments_lexer": "ipython3",
   "version": "3.13.2"
  }
 },
 "nbformat": 4,
 "nbformat_minor": 5
}
