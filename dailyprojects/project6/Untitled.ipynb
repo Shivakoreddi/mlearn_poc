{
 "cells": [
  {
   "cell_type": "code",
   "execution_count": 3,
   "id": "c0c1f63a-3ca7-47cf-a203-c1ee209d80f1",
   "metadata": {},
   "outputs": [],
   "source": [
    "import numpy as np\n",
    "import pandas as pd"
   ]
  },
  {
   "cell_type": "code",
   "execution_count": 15,
   "id": "eeca22ce-ee05-46ee-9935-570f7aef2238",
   "metadata": {},
   "outputs": [
    {
     "name": "stdout",
     "output_type": "stream",
     "text": [
      "0\n"
     ]
    }
   ],
   "source": [
    "# Small dataset (manually created)\n",
    "X = np.array([\n",
    "    [2, 2],\n",
    "    [4, 4],\n",
    "    [4, 0],\n",
    "    [0, 0],\n",
    "    [3, 1],\n",
    "    [1, 3]\n",
    "])\n",
    "\n",
    "y = np.array([1, 1, 0, 0, 0, 1])\n",
    "print(X[2][1])"
   ]
  },
  {
   "cell_type": "code",
   "execution_count": 11,
   "id": "b4dce256-f980-4f5c-8852-51c83bbde032",
   "metadata": {},
   "outputs": [
    {
     "data": {
      "image/png": "[encoded data removed]",
      "text/plain": [
       "<Figure size 640x480 with 1 Axes>"
      ]
     },
     "metadata": {},
     "output_type": "display_data"
    }
   ],
   "source": [
    "# Visualize\n",
    "import matplotlib.pyplot as plt\n",
    "\n",
    "plt.scatter(X[:,0], X[:,1], c=y, cmap=plt.cm.coolwarm, s=100)\n",
    "plt.xlabel('Feature 1')\n",
    "plt.ylabel('Feature 2')\n",
    "plt.title('Small 2D Dataset for SVM Practice')\n",
    "plt.show()"
   ]
  },
  {
   "cell_type": "code",
   "execution_count": 50,
   "id": "f31005ba-6826-4dc2-8160-ea396082a9d5",
   "metadata": {},
   "outputs": [
    {
     "name": "stdout",
     "output_type": "stream",
     "text": [
      "[2 2]:3\n",
      "[4 4]:5\n",
      "[4 0]:1\n",
      "[0 0]:1\n",
      "[3 1]:1\n",
      "[1 3]:2\n",
      "[np.True_, np.True_, np.True_, np.True_, np.True_, np.True_]\n"
     ]
    },
    {
     "data": {
      "text/plain": [
       "'Classified'"
      ]
     },
     "execution_count": 50,
     "metadata": {},
     "output_type": "execute_result"
    }
   ],
   "source": [
    "##decision boundry - hyperplane\n",
    "\n",
    "##wt*x+b =0\n",
    "\n",
    "##inititlze w \n",
    "w1 = 1\n",
    "w2 = 0\n",
    "b = 1\n",
    "\n",
    "##datasample1\n",
    "# 2*w1+2*w2+b>=1\n",
    "\n",
    "def svm_classification(w1,w2,b,X,y):\n",
    "    flag = []\n",
    "    for i in range(len(X)):\n",
    "        margin = y[i]*X[i][0]*w1+X[i][1]*w2+b\n",
    "        \n",
    "        print(f'{X[i]}:{margin}')\n",
    "        flag.append(margin>=1)\n",
    "        \n",
    "\n",
    "    print(flag)\n",
    "    if False in flag:\n",
    "        return \"Misclassified\"\n",
    "    else:\n",
    "        return \"Classified\"\n",
    "        \n",
    "        \n",
    "svm_classification(w1,w2,b,X,y)\n"
   ]
  },
  {
   "cell_type": "code",
   "execution_count": null,
   "id": "77379488-a23a-441f-b98d-aab51d6b8889",
   "metadata": {},
   "outputs": [],
   "source": []
  }
 ],
 "metadata": {
  "kernelspec": {
   "display_name": "Python 3 (ipykernel)",
   "language": "python",
   "name": "python3"
  },
  "language_info": {
   "codemirror_mode": {
    "name": "ipython",
    "version": 3
   },
   "file_extension": ".py",
   "mimetype": "text/x-python",
   "name": "python",
   "nbconvert_exporter": "python",
   "pygments_lexer": "ipython3",
   "version": "3.13.2"
  }
 },
 "nbformat": 4,
 "nbformat_minor": 5
}
