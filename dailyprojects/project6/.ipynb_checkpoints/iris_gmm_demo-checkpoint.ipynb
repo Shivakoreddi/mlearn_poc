{
 "cells": [
  {
   "cell_type": "markdown",
   "id": "f4dad263",
   "metadata": {},
   "source": [
    "# Gaussian Mixture Models on the Iris Dataset\n",
    "\n",
    "This notebook demonstrates how to:\n",
    "\n",
    "1. Load the real **Iris** dataset.\n",
    "2. Standardize features.\n",
    "3. Fit Gaussian Mixture Models (GMM) for different component counts.\n",
    "4. Select the best number of components via **BIC**.\n",
    "5. Evaluate the clustering with **Silhouette Score** and **Adjusted Rand Index**.\n",
    "6. Visualize clusters and Gaussian ellipses in a 2‑D **PCA** space.\n"
   ]
  },
  {
   "cell_type": "code",
   "execution_count": null,
   "id": "8ffc6cde",
   "metadata": {},
   "outputs": [],
   "source": [
    "\n",
    "import numpy as np\n",
    "import pandas as pd\n",
    "import matplotlib.pyplot as plt\n",
    "from matplotlib.patches import Ellipse\n",
    "\n",
    "from sklearn.datasets import load_iris\n",
    "from sklearn.preprocessing import StandardScaler\n",
    "from sklearn.mixture import GaussianMixture\n",
    "from sklearn.metrics import silhouette_score, adjusted_rand_score\n",
    "from sklearn.decomposition import PCA\n"
   ]
  },
  {
   "cell_type": "code",
   "execution_count": null,
   "id": "60e937a4",
   "metadata": {},
   "outputs": [],
   "source": [
    "\n",
    "# Load Iris and standardize\n",
    "iris = load_iris(as_frame=True)\n",
    "X_raw = iris.data\n",
    "y_true = iris.target\n",
    "target_names = iris.target_names\n",
    "\n",
    "scaler = StandardScaler()\n",
    "X = scaler.fit_transform(X_raw)\n",
    "print(f\"Data shape: {X.shape}\")\n"
   ]
  },
  {
   "cell_type": "code",
   "execution_count": null,
   "id": "f3e9e5c3",
   "metadata": {},
   "outputs": [],
   "source": [
    "\n",
    "# Fit GMMs with k = 1..6 and compute BIC\n",
    "bic_scores, models = [], {}\n",
    "for k in range(1, 7):\n",
    "    gmm = GaussianMixture(n_components=k, covariance_type='full',\n",
    "                          n_init=10, random_state=0)\n",
    "    gmm.fit(X)\n",
    "    bic_scores.append(gmm.bic(X))\n",
    "    models[k] = gmm\n",
    "\n",
    "best_k = int(np.argmin(bic_scores)) + 1\n",
    "gmm_best = models[best_k]\n",
    "labels = gmm_best.predict(X)\n",
    "\n",
    "# Evaluation\n",
    "sil = silhouette_score(X, labels)\n",
    "ari = adjusted_rand_score(y_true, labels)\n",
    "print(f\"Best k = {best_k}, Silhouette = {sil:.2f}, ARI = {ari:.2f}\")\n"
   ]
  },
  {
   "cell_type": "code",
   "execution_count": null,
   "id": "9b2029ae",
   "metadata": {},
   "outputs": [],
   "source": [
    "\n",
    "# Plot BIC curve\n",
    "plt.figure()\n",
    "plt.plot(range(1, 7), bic_scores, marker='o')\n",
    "plt.axvline(best_k, color='r', linestyle='--', label=f'Best k={best_k}')\n",
    "plt.xlabel('Number of Components (k)')\n",
    "plt.ylabel('BIC (lower is better)')\n",
    "plt.title('BIC vs k')\n",
    "plt.legend()\n",
    "plt.show()\n"
   ]
  },
  {
   "cell_type": "code",
   "execution_count": null,
   "id": "23757d74",
   "metadata": {},
   "outputs": [],
   "source": [
    "\n",
    "# PCA for 2D visualization\n",
    "pca = PCA(n_components=2)\n",
    "X_pca = pca.fit_transform(X)\n",
    "\n",
    "means_pca = pca.transform(gmm_best.means_)\n",
    "covs_pca = [pca.components_ @ cov @ pca.components_.T for cov in gmm_best.covariances_]\n",
    "\n",
    "def draw_ellipse(mean, cov, ax, color):\n",
    "    U, s, _ = np.linalg.svd(cov)\n",
    "    angle = np.degrees(np.arctan2(U[1,0], U[0,0]))\n",
    "    width, height = 2*np.sqrt(s)\n",
    "    for nsig in [1,2,3]:\n",
    "        ell = Ellipse(mean, nsig*width, nsig*height, angle,\n",
    "                      edgecolor=color, facecolor='none', lw=1.3, alpha=0.6)\n",
    "        ax.add_patch(ell)\n",
    "\n",
    "plt.figure(figsize=(6,5))\n",
    "palette = ['tab:blue','tab:orange','tab:green','tab:red','tab:purple','tab:brown']\n",
    "for k in range(best_k):\n",
    "    mask = labels == k\n",
    "    plt.scatter(X_pca[mask,0], X_pca[mask,1],\n",
    "                s=25, color=palette[k], label=f'Cluster {k}', alpha=0.7)\n",
    "    draw_ellipse(means_pca[k], covs_pca[k], plt.gca(), palette[k])\n",
    "\n",
    "plt.title(f'GMM on Iris (k={best_k})\\nSilhouette={sil:.2f} | ARI={ari:.2f}')\n",
    "plt.xlabel('PC1')\n",
    "plt.ylabel('PC2')\n",
    "plt.legend()\n",
    "plt.tight_layout()\n",
    "plt.show()\n"
   ]
  }
 ],
 "metadata": {},
 "nbformat": 4,
 "nbformat_minor": 5
}
