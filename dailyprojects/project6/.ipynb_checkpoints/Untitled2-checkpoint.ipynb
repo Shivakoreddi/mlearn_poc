{
 "cells": [
  {
   "cell_type": "code",
   "execution_count": 1,
   "id": "a58c00c9-f511-45b7-b163-0ddc4f1ac295",
   "metadata": {},
   "outputs": [],
   "source": [
    "import numpy as np\n",
    "import pandas as pd\n",
    "from sklearn.datasets import load_wine          # any tabular data will do\n",
    "from sklearn.preprocessing import StandardScaler\n",
    "from sklearn.metrics import silhouette_score\n",
    "from sklearn.cluster import AgglomerativeClustering\n",
    "from scipy.cluster.hierarchy import dendrogram, linkage\n",
    "import matplotlib.pyplot as plt"
   ]
  },
  {
   "cell_type": "code",
   "execution_count": 2,
   "id": "8ca8c32f-3c74-4583-bff1-eff2a1c1f4b3",
   "metadata": {},
   "outputs": [
    {
     "name": "stdout",
     "output_type": "stream",
     "text": [
      "Raw shape: (178, 13)\n"
     ]
    }
   ],
   "source": [
    "wine = load_wine(as_frame=True)\n",
    "X_raw = wine.data                               # 178 × 13 numeric features\n",
    "y_true = wine.target                            # for reference only\n",
    "print(\"Raw shape:\", X_raw.shape)"
   ]
  },
  {
   "cell_type": "code",
   "execution_count": 3,
   "id": "99cfe9f2-80f5-43bb-ba23-8e85394b7c23",
   "metadata": {},
   "outputs": [],
   "source": [
    "# ------------------------------------------------------------------\n",
    "# 2. Standardize (mean 0, variance 1) — distances are scale‑sensitive\n",
    "# ------------------------------------------------------------------\n",
    "scaler = StandardScaler()\n",
    "X = scaler.fit_transform(X_raw)"
   ]
  },
  {
   "cell_type": "code",
   "execution_count": 4,
   "id": "a4ce9715-90fd-4914-8379-fd9f18d327e2",
   "metadata": {},
   "outputs": [
    {
     "data": {
      "image/png": "[encoded data removed]",
      "text/plain": [
       "<Figure size 1000x400 with 1 Axes>"
      ]
     },
     "metadata": {},
     "output_type": "display_data"
    }
   ],
   "source": [
    "# ------------------------------------------------------------------\n",
    "# 3. Build the linkage matrix with SciPy for the dendrogram\n",
    "#    (Ward linkage is variance‑minimizing & works well on Euclidean)\n",
    "# ------------------------------------------------------------------\n",
    "Z = linkage(X, method=\"ward\")\n",
    "\n",
    "plt.figure(figsize=(10, 4))\n",
    "dendrogram(\n",
    "    Z,\n",
    "    truncate_mode=\"level\",     # show only the last p merges for clarity\n",
    "    p=5,\n",
    "    show_leaf_counts=True,\n",
    ")\n",
    "plt.title(\"Ward Dendrogram (truncated)\")\n",
    "plt.xlabel(\"Merged clusters\")\n",
    "plt.ylabel(\"Distance\")\n",
    "plt.show()\n"
   ]
  },
  {
   "cell_type": "code",
   "execution_count": 7,
   "id": "8596a770-3773-410d-b827-d1815bf5d002",
   "metadata": {},
   "outputs": [
    {
     "name": "stdout",
     "output_type": "stream",
     "text": [
      "Silhouette by k: {2: np.float64(0.26701317712722306), 3: np.float64(0.2774439826952266), 4: np.float64(0.225836659334758), 5: np.float64(0.18674235566758707), 6: np.float64(0.17966642854438503), 7: np.float64(0.18685342560226942), 8: np.float64(0.18834697102837825), 9: np.float64(0.1917169293227209), 10: np.float64(0.19856750165505588)}\n",
      "Best k = 3 → silhouette = 0.2774439826952266\n"
     ]
    },
    {
     "name": "stderr",
     "output_type": "stream",
     "text": [
      "/Users/shiva/PycharmProjects/mlearn_poc/.venv/lib/python3.13/site-packages/sklearn/utils/extmath.py:203: RuntimeWarning: divide by zero encountered in matmul\n",
      "  ret = a @ b\n",
      "/Users/shiva/PycharmProjects/mlearn_poc/.venv/lib/python3.13/site-packages/sklearn/utils/extmath.py:203: RuntimeWarning: overflow encountered in matmul\n",
      "  ret = a @ b\n",
      "/Users/shiva/PycharmProjects/mlearn_poc/.venv/lib/python3.13/site-packages/sklearn/utils/extmath.py:203: RuntimeWarning: invalid value encountered in matmul\n",
      "  ret = a @ b\n",
      "/Users/shiva/PycharmProjects/mlearn_poc/.venv/lib/python3.13/site-packages/sklearn/utils/extmath.py:203: RuntimeWarning: divide by zero encountered in matmul\n",
      "  ret = a @ b\n",
      "/Users/shiva/PycharmProjects/mlearn_poc/.venv/lib/python3.13/site-packages/sklearn/utils/extmath.py:203: RuntimeWarning: overflow encountered in matmul\n",
      "  ret = a @ b\n",
      "/Users/shiva/PycharmProjects/mlearn_poc/.venv/lib/python3.13/site-packages/sklearn/utils/extmath.py:203: RuntimeWarning: invalid value encountered in matmul\n",
      "  ret = a @ b\n",
      "/Users/shiva/PycharmProjects/mlearn_poc/.venv/lib/python3.13/site-packages/sklearn/utils/extmath.py:203: RuntimeWarning: divide by zero encountered in matmul\n",
      "  ret = a @ b\n",
      "/Users/shiva/PycharmProjects/mlearn_poc/.venv/lib/python3.13/site-packages/sklearn/utils/extmath.py:203: RuntimeWarning: overflow encountered in matmul\n",
      "  ret = a @ b\n",
      "/Users/shiva/PycharmProjects/mlearn_poc/.venv/lib/python3.13/site-packages/sklearn/utils/extmath.py:203: RuntimeWarning: invalid value encountered in matmul\n",
      "  ret = a @ b\n",
      "/Users/shiva/PycharmProjects/mlearn_poc/.venv/lib/python3.13/site-packages/sklearn/utils/extmath.py:203: RuntimeWarning: divide by zero encountered in matmul\n",
      "  ret = a @ b\n",
      "/Users/shiva/PycharmProjects/mlearn_poc/.venv/lib/python3.13/site-packages/sklearn/utils/extmath.py:203: RuntimeWarning: overflow encountered in matmul\n",
      "  ret = a @ b\n",
      "/Users/shiva/PycharmProjects/mlearn_poc/.venv/lib/python3.13/site-packages/sklearn/utils/extmath.py:203: RuntimeWarning: invalid value encountered in matmul\n",
      "  ret = a @ b\n",
      "/Users/shiva/PycharmProjects/mlearn_poc/.venv/lib/python3.13/site-packages/sklearn/utils/extmath.py:203: RuntimeWarning: divide by zero encountered in matmul\n",
      "  ret = a @ b\n",
      "/Users/shiva/PycharmProjects/mlearn_poc/.venv/lib/python3.13/site-packages/sklearn/utils/extmath.py:203: RuntimeWarning: overflow encountered in matmul\n",
      "  ret = a @ b\n",
      "/Users/shiva/PycharmProjects/mlearn_poc/.venv/lib/python3.13/site-packages/sklearn/utils/extmath.py:203: RuntimeWarning: invalid value encountered in matmul\n",
      "  ret = a @ b\n",
      "/Users/shiva/PycharmProjects/mlearn_poc/.venv/lib/python3.13/site-packages/sklearn/utils/extmath.py:203: RuntimeWarning: divide by zero encountered in matmul\n",
      "  ret = a @ b\n",
      "/Users/shiva/PycharmProjects/mlearn_poc/.venv/lib/python3.13/site-packages/sklearn/utils/extmath.py:203: RuntimeWarning: overflow encountered in matmul\n",
      "  ret = a @ b\n",
      "/Users/shiva/PycharmProjects/mlearn_poc/.venv/lib/python3.13/site-packages/sklearn/utils/extmath.py:203: RuntimeWarning: invalid value encountered in matmul\n",
      "  ret = a @ b\n",
      "/Users/shiva/PycharmProjects/mlearn_poc/.venv/lib/python3.13/site-packages/sklearn/utils/extmath.py:203: RuntimeWarning: divide by zero encountered in matmul\n",
      "  ret = a @ b\n",
      "/Users/shiva/PycharmProjects/mlearn_poc/.venv/lib/python3.13/site-packages/sklearn/utils/extmath.py:203: RuntimeWarning: overflow encountered in matmul\n",
      "  ret = a @ b\n",
      "/Users/shiva/PycharmProjects/mlearn_poc/.venv/lib/python3.13/site-packages/sklearn/utils/extmath.py:203: RuntimeWarning: invalid value encountered in matmul\n",
      "  ret = a @ b\n",
      "/Users/shiva/PycharmProjects/mlearn_poc/.venv/lib/python3.13/site-packages/sklearn/utils/extmath.py:203: RuntimeWarning: divide by zero encountered in matmul\n",
      "  ret = a @ b\n",
      "/Users/shiva/PycharmProjects/mlearn_poc/.venv/lib/python3.13/site-packages/sklearn/utils/extmath.py:203: RuntimeWarning: overflow encountered in matmul\n",
      "  ret = a @ b\n",
      "/Users/shiva/PycharmProjects/mlearn_poc/.venv/lib/python3.13/site-packages/sklearn/utils/extmath.py:203: RuntimeWarning: invalid value encountered in matmul\n",
      "  ret = a @ b\n",
      "/Users/shiva/PycharmProjects/mlearn_poc/.venv/lib/python3.13/site-packages/sklearn/utils/extmath.py:203: RuntimeWarning: divide by zero encountered in matmul\n",
      "  ret = a @ b\n",
      "/Users/shiva/PycharmProjects/mlearn_poc/.venv/lib/python3.13/site-packages/sklearn/utils/extmath.py:203: RuntimeWarning: overflow encountered in matmul\n",
      "  ret = a @ b\n",
      "/Users/shiva/PycharmProjects/mlearn_poc/.venv/lib/python3.13/site-packages/sklearn/utils/extmath.py:203: RuntimeWarning: invalid value encountered in matmul\n",
      "  ret = a @ b\n"
     ]
    }
   ],
   "source": [
    "# ------------------------------------------------------------------\n",
    "# 4. Decide how many clusters.\n",
    "#    • Option A: eyeball the dendrogram and set n_clusters\n",
    "#    • Option B: iterate on n_clusters, use silhouette score\n",
    "# ------------------------------------------------------------------\n",
    "def silhouette_for_k(k: int) -> float:\n",
    "    model = AgglomerativeClustering(\n",
    "        n_clusters=k, linkage=\"ward\", metric=\"euclidean\"\n",
    "    )\n",
    "    labels = model.fit_predict(X)\n",
    "    return silhouette_score(X, labels)\n",
    "\n",
    "scores = {k: silhouette_for_k(k) for k in range(2, 11)}\n",
    "best_k = max(scores, key=scores.get)\n",
    "print(\"Silhouette by k:\", scores)\n",
    "print(\"Best k =\", best_k, \"→ silhouette =\", scores[best_k])"
   ]
  },
  {
   "cell_type": "code",
   "execution_count": 8,
   "id": "8b1a1a08-ce2f-479b-9731-a0ace4474403",
   "metadata": {},
   "outputs": [
    {
     "name": "stdout",
     "output_type": "stream",
     "text": [
      "    ward linkage → silhouette 0.277\n",
      "complete linkage → silhouette 0.204\n",
      " average linkage → silhouette 0.158\n",
      "  single linkage → silhouette 0.183\n"
     ]
    },
    {
     "name": "stderr",
     "output_type": "stream",
     "text": [
      "/Users/shiva/PycharmProjects/mlearn_poc/.venv/lib/python3.13/site-packages/sklearn/utils/extmath.py:203: RuntimeWarning: divide by zero encountered in matmul\n",
      "  ret = a @ b\n",
      "/Users/shiva/PycharmProjects/mlearn_poc/.venv/lib/python3.13/site-packages/sklearn/utils/extmath.py:203: RuntimeWarning: overflow encountered in matmul\n",
      "  ret = a @ b\n",
      "/Users/shiva/PycharmProjects/mlearn_poc/.venv/lib/python3.13/site-packages/sklearn/utils/extmath.py:203: RuntimeWarning: invalid value encountered in matmul\n",
      "  ret = a @ b\n",
      "/Users/shiva/PycharmProjects/mlearn_poc/.venv/lib/python3.13/site-packages/sklearn/utils/extmath.py:203: RuntimeWarning: divide by zero encountered in matmul\n",
      "  ret = a @ b\n",
      "/Users/shiva/PycharmProjects/mlearn_poc/.venv/lib/python3.13/site-packages/sklearn/utils/extmath.py:203: RuntimeWarning: overflow encountered in matmul\n",
      "  ret = a @ b\n",
      "/Users/shiva/PycharmProjects/mlearn_poc/.venv/lib/python3.13/site-packages/sklearn/utils/extmath.py:203: RuntimeWarning: invalid value encountered in matmul\n",
      "  ret = a @ b\n",
      "/Users/shiva/PycharmProjects/mlearn_poc/.venv/lib/python3.13/site-packages/sklearn/utils/extmath.py:203: RuntimeWarning: divide by zero encountered in matmul\n",
      "  ret = a @ b\n",
      "/Users/shiva/PycharmProjects/mlearn_poc/.venv/lib/python3.13/site-packages/sklearn/utils/extmath.py:203: RuntimeWarning: overflow encountered in matmul\n",
      "  ret = a @ b\n",
      "/Users/shiva/PycharmProjects/mlearn_poc/.venv/lib/python3.13/site-packages/sklearn/utils/extmath.py:203: RuntimeWarning: invalid value encountered in matmul\n",
      "  ret = a @ b\n",
      "/Users/shiva/PycharmProjects/mlearn_poc/.venv/lib/python3.13/site-packages/sklearn/utils/extmath.py:203: RuntimeWarning: divide by zero encountered in matmul\n",
      "  ret = a @ b\n",
      "/Users/shiva/PycharmProjects/mlearn_poc/.venv/lib/python3.13/site-packages/sklearn/utils/extmath.py:203: RuntimeWarning: overflow encountered in matmul\n",
      "  ret = a @ b\n",
      "/Users/shiva/PycharmProjects/mlearn_poc/.venv/lib/python3.13/site-packages/sklearn/utils/extmath.py:203: RuntimeWarning: invalid value encountered in matmul\n",
      "  ret = a @ b\n"
     ]
    }
   ],
   "source": [
    "# ------------------------------------------------------------------\n",
    "# 5. Fit final model with best_k (and optionally compare linkages)\n",
    "# ------------------------------------------------------------------\n",
    "linkages = [\"ward\", \"complete\", \"average\", \"single\"]\n",
    "models = {}\n",
    "for lnk in linkages:\n",
    "    model = AgglomerativeClustering(\n",
    "        n_clusters=best_k, linkage=lnk, metric=\"euclidean\"\n",
    "    )\n",
    "    labels = model.fit_predict(X)\n",
    "    models[lnk] = (model, labels, silhouette_score(X, labels))\n",
    "\n",
    "# Display silhouettes for each linkage\n",
    "for lnk, (_, _, sc) in models.items():\n",
    "    print(f\"{lnk:>8} linkage → silhouette {sc:.3f}\")\n",
    "\n",
    "# Choose Ward (or whichever is highest) for downstream analysis\n",
    "final_labels = models[\"ward\"][1]"
   ]
  },
  {
   "cell_type": "code",
   "execution_count": null,
   "id": "c82f17f0-0e0c-4555-bb9a-a9180dac8195",
   "metadata": {},
   "outputs": [],
   "source": []
  }
 ],
 "metadata": {
  "kernelspec": {
   "display_name": "Python 3 (ipykernel)",
   "language": "python",
   "name": "python3"
  },
  "language_info": {
   "codemirror_mode": {
    "name": "ipython",
    "version": 3
   },
   "file_extension": ".py",
   "mimetype": "text/x-python",
   "name": "python",
   "nbconvert_exporter": "python",
   "pygments_lexer": "ipython3",
   "version": "3.13.2"
  }
 },
 "nbformat": 4,
 "nbformat_minor": 5
}
