{
 "cells": [
  {
   "cell_type": "markdown",
   "id": "c6496b10",
   "metadata": {},
   "source": [
    "# Universal Data‑Structure Cue Sheet\n",
    "This notebook pairs **every entry** in the cue‑sheet with a short, runnable Python snippet.\n",
    "\n",
    "> Run the code cells or tweak them to cement the concepts."
   ]
  },
  {
   "cell_type": "markdown",
   "id": "3ab8ea52",
   "metadata": {},
   "source": [
    "## 1. Array / List\n",
    "**Clue**: “index by position”, contiguous storage.\n"
   ]
  },
  {
   "cell_type": "code",
   "execution_count": null,
   "id": "06438e7d",
   "metadata": {},
   "outputs": [],
   "source": [
    "\n",
    "# Python lists are dynamic arrays (amortised O(1) append, O(1) index)\n",
    "nums = [10, 20, 30]\n",
    "nums.append(40)\n",
    "print(\"3rd element ->\", nums[2])  # 0‑based index\n",
    "print(\"Slice ->\", nums[1:3])\n"
   ]
  },
  {
   "cell_type": "markdown",
   "id": "8702c9a9",
   "metadata": {},
   "source": [
    "## 2. Singly Linked List\n",
    "**Clue**: frequent insert/delete in middle, unknown size."
   ]
  },
  {
   "cell_type": "code",
   "execution_count": null,
   "id": "39445668",
   "metadata": {},
   "outputs": [],
   "source": [
    "\n",
    "class Node:\n",
    "    __slots__ = (\"val\", \"next\")\n",
    "    def __init__(self, val, nxt=None):\n",
    "        self.val, self.next = val, nxt\n",
    "\n",
    "# build list 1→2→3\n",
    "head = Node(1, Node(2, Node(3)))\n",
    "# insert 4 after second node\n",
    "new = Node(4, head.next.next)\n",
    "head.next.next = new\n",
    "\n",
    "# traverse\n",
    "cur = head\n",
    "while cur:\n",
    "    print(cur.val, end=\" \")\n",
    "    cur = cur.next\n"
   ]
  },
  {
   "cell_type": "markdown",
   "id": "2fad77f1",
   "metadata": {},
   "source": [
    "## 3. Stack (LIFO)\n",
    "**Clue**: backtracking, DFS, undo/redo."
   ]
  },
  {
   "cell_type": "code",
   "execution_count": null,
   "id": "63ea694e",
   "metadata": {},
   "outputs": [],
   "source": [
    "\n",
    "stack = []\n",
    "for token in \"abc\":\n",
    "    stack.append(token)       # push\n",
    "while stack:\n",
    "    print(\"pop ->\", stack.pop())\n"
   ]
  },
  {
   "cell_type": "markdown",
   "id": "0685af34",
   "metadata": {},
   "source": [
    "## 4. Queue / Deque\n",
    "**Clue**: BFS, sliding window."
   ]
  },
  {
   "cell_type": "code",
   "execution_count": null,
   "id": "6ae0f27d",
   "metadata": {},
   "outputs": [],
   "source": [
    "\n",
    "from collections import deque\n",
    "q = deque([1, 2, 3])\n",
    "q.append(4)           # enqueue\n",
    "print(q.popleft())    # dequeue (FIFO)\n",
    "# Deque sliding window maximum (monotonic)\n",
    "def sliding_max(arr, k):\n",
    "    dq, out = deque(), []\n",
    "    for i, val in enumerate(arr):\n",
    "        while dq and arr[dq[-1]] <= val: dq.pop()\n",
    "        dq.append(i)\n",
    "        if dq[0] == i-k: dq.popleft()\n",
    "        if i >= k-1: out.append(arr[dq[0]])\n",
    "    return out\n",
    "print(\"sliding max:\", sliding_max([10,1,12,3,4,15], 3))\n"
   ]
  },
  {
   "cell_type": "markdown",
   "id": "441a9f53",
   "metadata": {},
   "source": [
    "## 5. Hash Map / Set\n",
    "**Clue**: O(1) average membership & look‑up."
   ]
  },
  {
   "cell_type": "code",
   "execution_count": null,
   "id": "425998e2",
   "metadata": {},
   "outputs": [],
   "source": [
    "\n",
    "counts = {}\n",
    "for word in \"spam spam eggs ham spam\".split():\n",
    "    counts[word] = counts.get(word, 0) + 1\n",
    "print(counts)\n"
   ]
  },
  {
   "cell_type": "markdown",
   "id": "debe9972",
   "metadata": {},
   "source": [
    "## 6. Binary Heap (Priority Queue)\n",
    "**Clue**: top‑k, Dijkstra, scheduler."
   ]
  },
  {
   "cell_type": "code",
   "execution_count": null,
   "id": "cf5be3cf",
   "metadata": {},
   "outputs": [],
   "source": [
    "\n",
    "import heapq\n",
    "h = []\n",
    "for num in [5, 1, 8, 3]:\n",
    "    heapq.heappush(h, num)  # min‑heap\n",
    "print(\"smallest:\", heapq.heappop(h))\n",
    "print(\"heap contents:\", h)\n"
   ]
  },
  {
   "cell_type": "markdown",
   "id": "5fd6e566",
   "metadata": {},
   "source": [
    "## 7. Ordered Structure (bisect – Balanced BST idea)\n",
    "**Clue**: predecessor/successor queries."
   ]
  },
  {
   "cell_type": "code",
   "execution_count": null,
   "id": "b367804f",
   "metadata": {},
   "outputs": [],
   "source": [
    "\n",
    "import bisect\n",
    "arr = [2, 4, 8, 10]\n",
    "bisect.insort(arr, 6)  # keeps list sorted\n",
    "print(arr)\n",
    "idx = bisect.bisect_left(arr, 7)  # first ≥7\n",
    "print(\"ceiling of 7 is\", arr[idx])\n"
   ]
  },
  {
   "cell_type": "markdown",
   "id": "5a756c0d",
   "metadata": {},
   "source": [
    "## 8. Disjoint‑Set (Union‑Find)\n",
    "**Clue**: connectivity, Kruskal MST."
   ]
  },
  {
   "cell_type": "code",
   "execution_count": null,
   "id": "ea0d44f1",
   "metadata": {},
   "outputs": [],
   "source": [
    "\n",
    "class UnionFind:\n",
    "    def __init__(self, n):\n",
    "        self.p = list(range(n))\n",
    "        self.sz = [1]*n\n",
    "    def find(self, x):\n",
    "        while self.p[x] != x:\n",
    "            self.p[x] = self.p[self.p[x]]\n",
    "            x = self.p[x]\n",
    "        return x\n",
    "    def union(self, a, b):\n",
    "        ra, rb = self.find(a), self.find(b)\n",
    "        if ra == rb: return False\n",
    "        if self.sz[ra] < self.sz[rb]:\n",
    "            ra, rb = rb, ra\n",
    "        self.p[rb] = ra\n",
    "        self.sz[ra] += self.sz[rb]\n",
    "        return True\n",
    "\n",
    "uf = UnionFind(5)\n",
    "uf.union(0,1); uf.union(3,4)\n",
    "print(\"0 connected to 4?\", uf.find(0)==uf.find(4))\n"
   ]
  },
  {
   "cell_type": "markdown",
   "id": "0dc69468",
   "metadata": {},
   "source": [
    "## 9. Trie (Prefix Tree)\n",
    "**Clue**: autocomplete, longest prefix match."
   ]
  },
  {
   "cell_type": "code",
   "execution_count": null,
   "id": "bae59f3d",
   "metadata": {},
   "outputs": [],
   "source": [
    "\n",
    "from collections import defaultdict\n",
    "class TrieNode(defaultdict):\n",
    "    def __init__(self): super().__init__(TrieNode); self.end=False\n",
    "\n",
    "class Trie:\n",
    "    def __init__(self): self.root=TrieNode()\n",
    "    def insert(self, word):\n",
    "        node=self.root\n",
    "        for ch in word: node=node[ch]\n",
    "        node.end=True\n",
    "    def startswith(self, prefix):\n",
    "        node=self.root\n",
    "        for ch in prefix:\n",
    "            if ch not in node: return []\n",
    "            node=node[ch]\n",
    "        out=[]\n",
    "        def dfs(n, path):\n",
    "            if n.end: out.append(\"\".join(path))\n",
    "            for c,child in n.items(): dfs(child, path+[c])\n",
    "        dfs(node, list(prefix))\n",
    "        return out\n",
    "\n",
    "trie=Trie()\n",
    "for w in [\"cat\",\"car\",\"cart\",\"dog\"]: trie.insert(w)\n",
    "print(\"words with 'ca':\", trie.startswith(\"ca\"))\n"
   ]
  },
  {
   "cell_type": "markdown",
   "id": "7f42507f",
   "metadata": {},
   "source": [
    "## 10. Segment Tree (Range Queries)\n",
    "**Clue**: many range sums / min queries online."
   ]
  },
  {
   "cell_type": "code",
   "execution_count": null,
   "id": "a1146d53",
   "metadata": {},
   "outputs": [],
   "source": [
    "\n",
    "class SegTree:\n",
    "    def __init__(self, arr):\n",
    "        n=len(arr); self.N=1\n",
    "        while self.N<n:self.N*=2\n",
    "        self.tree=[0]*(2*self.N)\n",
    "        self.tree[self.N:self.N+n]=arr\n",
    "        for i in range(self.N-1,0,-1):\n",
    "            self.tree[i]=self.tree[2*i]+self.tree[2*i+1]\n",
    "    def range_sum(self,l,r):\n",
    "        l+=self.N; r+=self.N; s=0\n",
    "        while l<=r:\n",
    "            if l%2: s+=self.tree[l]; l+=1\n",
    "            if not r%2: s+=self.tree[r]; r-=1\n",
    "            l//=2; r//=2\n",
    "        return s\n",
    "arr=[3,2,4,5,1]\n",
    "st=SegTree(arr)\n",
    "print(\"sum[1:3] =\", st.range_sum(1,3))\n"
   ]
  },
  {
   "cell_type": "markdown",
   "id": "427d87b4",
   "metadata": {},
   "source": [
    "## 11. Bloom Filter (Probabilistic Set)\n",
    "**Clue**: massive membership tests with tiny RAM."
   ]
  },
  {
   "cell_type": "code",
   "execution_count": null,
   "id": "a6b9e454",
   "metadata": {},
   "outputs": [],
   "source": [
    "\n",
    "import mmh3, math, array\n",
    "class Bloom:\n",
    "    def __init__(self,n,fp_rate=0.01):\n",
    "        self.m = math.ceil(-(n*math.log(fp_rate))/ (math.log(2)**2))\n",
    "        self.k = math.ceil((self.m/n)*math.log(2))\n",
    "        self.bits = array.array('B', [0]) * self.m\n",
    "    def add(self,item):\n",
    "        for i in range(self.k):\n",
    "            idx = mmh3.hash(item,str(i)) % self.m\n",
    "            self.bits[idx] = 1\n",
    "    def __contains__(self,item):\n",
    "        return all(self.bits[mmh3.hash(item,str(i)) % self.m] for i in range(self.k))\n",
    "\n",
    "bf=Bloom(1000)\n",
    "bf.add(\"hello\")\n",
    "print(\"'hello' in set?\", \"hello\" in bf)\n",
    "print(\"'world' in set?\", \"world\" in bf)\n"
   ]
  }
 ],
 "metadata": {},
 "nbformat": 4,
 "nbformat_minor": 5
}
