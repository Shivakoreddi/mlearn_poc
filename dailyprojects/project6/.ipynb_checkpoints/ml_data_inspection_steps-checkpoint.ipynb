{
 "cells": [
  {
   "cell_type": "markdown",
   "id": "3d912b46",
   "metadata": {},
   "source": [
    "# 🔍 ML Data Inspection Plan\n",
    "Generated 2025-04-18 02:15"
   ]
  },
  {
   "cell_type": "code",
   "execution_count": 1,
   "id": "4e3f8dc8",
   "metadata": {},
   "outputs": [],
   "source": [
    "import pandas as pd\n",
    "import numpy as np\n",
    "from scipy.stats import ks_2samp\n",
    "np.random.seed(42)"
   ]
  },
  {
   "cell_type": "markdown",
   "id": "657cb4be",
   "metadata": {},
   "source": [
    "## 1️⃣ Data Snapshot and Memory"
   ]
  },
  {
   "cell_type": "code",
   "execution_count": 2,
   "id": "97e0dfa2",
   "metadata": {},
   "outputs": [
    {
     "name": "stdout",
     "output_type": "stream",
     "text": [
      "<class 'pandas.core.frame.DataFrame'>\n",
      "RangeIndex: 100 entries, 0 to 99\n",
      "Data columns (total 6 columns):\n",
      " #   Column                Non-Null Count  Dtype         \n",
      "---  ------                --------------  -----         \n",
      " 0   Department            100 non-null    object        \n",
      " 1   Bed_Occupancy         100 non-null    int64         \n",
      " 2   Emergency_Admissions  100 non-null    int64         \n",
      " 3   Weekend               100 non-null    int64         \n",
      " 4   beds_required         100 non-null    int64         \n",
      " 5   timestamp             100 non-null    datetime64[ns]\n",
      "dtypes: datetime64[ns](1), int64(4), object(1)\n",
      "memory usage: 9.3 KB\n"
     ]
    },
    {
     "data": {
      "text/html": [
       "<div>\n",
       "<style scoped>\n",
       "    .dataframe tbody tr th:only-of-type {\n",
       "        vertical-align: middle;\n",
       "    }\n",
       "\n",
       "    .dataframe tbody tr th {\n",
       "        vertical-align: top;\n",
       "    }\n",
       "\n",
       "    .dataframe thead th {\n",
       "        text-align: right;\n",
       "    }\n",
       "</style>\n",
       "<table border=\"1\" class=\"dataframe\">\n",
       "  <thead>\n",
       "    <tr style=\"text-align: right;\">\n",
       "      <th></th>\n",
       "      <th>Department</th>\n",
       "      <th>Bed_Occupancy</th>\n",
       "      <th>Emergency_Admissions</th>\n",
       "      <th>Weekend</th>\n",
       "      <th>beds_required</th>\n",
       "      <th>timestamp</th>\n",
       "    </tr>\n",
       "  </thead>\n",
       "  <tbody>\n",
       "    <tr>\n",
       "      <th>0</th>\n",
       "      <td>PEDIA</td>\n",
       "      <td>27</td>\n",
       "      <td>1</td>\n",
       "      <td>1</td>\n",
       "      <td>0</td>\n",
       "      <td>2023-01-01</td>\n",
       "    </tr>\n",
       "    <tr>\n",
       "      <th>1</th>\n",
       "      <td>CARDIO</td>\n",
       "      <td>6</td>\n",
       "      <td>27</td>\n",
       "      <td>0</td>\n",
       "      <td>0</td>\n",
       "      <td>2023-01-02</td>\n",
       "    </tr>\n",
       "    <tr>\n",
       "      <th>2</th>\n",
       "      <td>ORTHO</td>\n",
       "      <td>72</td>\n",
       "      <td>22</td>\n",
       "      <td>1</td>\n",
       "      <td>0</td>\n",
       "      <td>2023-01-03</td>\n",
       "    </tr>\n",
       "    <tr>\n",
       "      <th>3</th>\n",
       "      <td>CARDIO</td>\n",
       "      <td>71</td>\n",
       "      <td>36</td>\n",
       "      <td>0</td>\n",
       "      <td>0</td>\n",
       "      <td>2023-01-04</td>\n",
       "    </tr>\n",
       "    <tr>\n",
       "      <th>4</th>\n",
       "      <td>CARDIO</td>\n",
       "      <td>11</td>\n",
       "      <td>31</td>\n",
       "      <td>1</td>\n",
       "      <td>0</td>\n",
       "      <td>2023-01-05</td>\n",
       "    </tr>\n",
       "  </tbody>\n",
       "</table>\n",
       "</div>"
      ],
      "text/plain": [
       "  Department  Bed_Occupancy  Emergency_Admissions  Weekend  beds_required  \\\n",
       "0      PEDIA             27                     1        1              0   \n",
       "1     CARDIO              6                    27        0              0   \n",
       "2      ORTHO             72                    22        1              0   \n",
       "3     CARDIO             71                    36        0              0   \n",
       "4     CARDIO             11                    31        1              0   \n",
       "\n",
       "   timestamp  \n",
       "0 2023-01-01  \n",
       "1 2023-01-02  \n",
       "2 2023-01-03  \n",
       "3 2023-01-04  \n",
       "4 2023-01-05  "
      ]
     },
     "execution_count": 2,
     "metadata": {},
     "output_type": "execute_result"
    }
   ],
   "source": [
    "##Flag tiny/huge datasets; watch RAM if you’ll bootstrap 100 trees\n",
    "##Shape & memory (rows × cols, bytes)\n",
    "##How many rows and columns?\n",
    "##Are there any memory-hogging columns (e.g., long strings)?\n",
    "##Confirm you’ve loaded the data correctly\n",
    "\n",
    "# Example synthetic dataset\n",
    "n = 100\n",
    "df = pd.DataFrame({\n",
    "    'Department': np.random.choice(['ICU', 'SURGERY', 'ORTHO', 'PEDIA', 'CARDIO'], size=n),\n",
    "    'Bed_Occupancy': np.random.randint(0, 100, size=n),\n",
    "    'Emergency_Admissions': np.random.randint(0, 50, size=n),\n",
    "    'Weekend': np.random.choice([0, 1], size=n),\n",
    "})\n",
    "df['beds_required'] = ((df['Department']=='ICU') & (df['Emergency_Admissions']>10)).astype(int)\n",
    "df['timestamp'] = pd.date_range(start='2023-01-01', periods=n, freq='D')\n",
    "df.info(memory_usage='deep')\n",
    "df.head()"
   ]
  },
  {
   "cell_type": "markdown",
   "id": "8b04a615",
   "metadata": {},
   "source": [
    "## 2️⃣ Target Distribution"
   ]
  },
  {
   "cell_type": "code",
   "execution_count": 3,
   "id": "be3532c5",
   "metadata": {},
   "outputs": [
    {
     "data": {
      "text/plain": [
       "beds_required\n",
       "0    0.83\n",
       "1    0.17\n",
       "Name: proportion, dtype: float64"
      ]
     },
     "execution_count": 3,
     "metadata": {},
     "output_type": "execute_result"
    }
   ],
   "source": [
    "##Verify you actually have the label you think you have (and only one)\n",
    "##Is the target binary, multiclass, or continuous?\n",
    "##Are the classes evenly distributed?\n",
    "\n",
    "df['beds_required'].value_counts(normalize=True)"
   ]
  },
  {
   "cell_type": "markdown",
   "id": "92783074",
   "metadata": {},
   "source": [
    "## 3️⃣ Data Types Snapshot"
   ]
  },
  {
   "cell_type": "code",
   "execution_count": 4,
   "id": "98845e82",
   "metadata": {},
   "outputs": [
    {
     "data": {
      "text/plain": [
       "int64             4\n",
       "object            1\n",
       "datetime64[ns]    1\n",
       "Name: count, dtype: int64"
      ]
     },
     "execution_count": 4,
     "metadata": {},
     "output_type": "execute_result"
    }
   ],
   "source": [
    "##Spot categorical vs. numeric vs. datetime early; drives split logic & preprocessing\n",
    "\n",
    "df.dtypes.value_counts()"
   ]
  },
  {
   "cell_type": "markdown",
   "id": "e3e561f4",
   "metadata": {},
   "source": [
    "## 4️⃣ Missing Value Heatmap"
   ]
  },
  {
   "cell_type": "code",
   "execution_count": 6,
   "id": "5b551e1b",
   "metadata": {},
   "outputs": [
    {
     "data": {
      "text/plain": [
       "Department              0.0\n",
       "Bed_Occupancy           0.0\n",
       "Emergency_Admissions    0.0\n",
       "Weekend                 0.0\n",
       "beds_required           0.0\n",
       "timestamp               0.0\n",
       "dtype: float64"
      ]
     },
     "execution_count": 6,
     "metadata": {},
     "output_type": "execute_result"
    }
   ],
   "source": [
    "##Random Forest can tolerate some NaNs but too many ⇒ bias; plan imputation\n",
    "##To identify columns or rows with NaNs that may affect model training or cause errors in algorithms.\n",
    "##Columns with more than 30–50% missing values\n",
    "##Sparse features (too few non-NaNs)\n",
    "\n",
    "df.isna().mean().sort_values(ascending=False)"
   ]
  },
  {
   "cell_type": "markdown",
   "id": "100d9e87",
   "metadata": {},
   "source": [
    "## 5️⃣ Categorical Column Cardinality"
   ]
  },
  {
   "cell_type": "code",
   "execution_count": 7,
   "id": "420404b1",
   "metadata": {},
   "outputs": [
    {
     "data": {
      "text/plain": [
       "Department    5\n",
       "dtype: int64"
      ]
     },
     "execution_count": 7,
     "metadata": {},
     "output_type": "execute_result"
    }
   ],
   "source": [
    "##High‑cardinality = big one‑hot blow‑ups (RF fine, but memory ☹)\n",
    "##To find categorical features with very high cardinality (i.e., many unique values), which may need encoding strategies or filtering.\n",
    "##Categorical columns with hundreds or thousands of categories\n",
    "##IDs mistakenly treated as categories\n",
    "\n",
    "df.select_dtypes('object').nunique().sort_values()"
   ]
  },
  {
   "cell_type": "markdown",
   "id": "113ca3bd",
   "metadata": {},
   "source": [
    "## 6️⃣ Basic Descriptive Statistics"
   ]
  },
  {
   "cell_type": "code",
   "execution_count": 8,
   "id": "fe2fd082",
   "metadata": {},
   "outputs": [
    {
     "data": {
      "text/html": [
       "<div>\n",
       "<style scoped>\n",
       "    .dataframe tbody tr th:only-of-type {\n",
       "        vertical-align: middle;\n",
       "    }\n",
       "\n",
       "    .dataframe tbody tr th {\n",
       "        vertical-align: top;\n",
       "    }\n",
       "\n",
       "    .dataframe thead th {\n",
       "        text-align: right;\n",
       "    }\n",
       "</style>\n",
       "<table border=\"1\" class=\"dataframe\">\n",
       "  <thead>\n",
       "    <tr style=\"text-align: right;\">\n",
       "      <th></th>\n",
       "      <th>count</th>\n",
       "      <th>unique</th>\n",
       "      <th>top</th>\n",
       "      <th>freq</th>\n",
       "      <th>mean</th>\n",
       "      <th>min</th>\n",
       "      <th>25%</th>\n",
       "      <th>50%</th>\n",
       "      <th>75%</th>\n",
       "      <th>max</th>\n",
       "      <th>std</th>\n",
       "    </tr>\n",
       "  </thead>\n",
       "  <tbody>\n",
       "    <tr>\n",
       "      <th>Department</th>\n",
       "      <td>100</td>\n",
       "      <td>5</td>\n",
       "      <td>PEDIA</td>\n",
       "      <td>26</td>\n",
       "      <td>NaN</td>\n",
       "      <td>NaN</td>\n",
       "      <td>NaN</td>\n",
       "      <td>NaN</td>\n",
       "      <td>NaN</td>\n",
       "      <td>NaN</td>\n",
       "      <td>NaN</td>\n",
       "    </tr>\n",
       "    <tr>\n",
       "      <th>Bed_Occupancy</th>\n",
       "      <td>100.0</td>\n",
       "      <td>NaN</td>\n",
       "      <td>NaN</td>\n",
       "      <td>NaN</td>\n",
       "      <td>48.68</td>\n",
       "      <td>0.0</td>\n",
       "      <td>26.75</td>\n",
       "      <td>50.0</td>\n",
       "      <td>72.5</td>\n",
       "      <td>98.0</td>\n",
       "      <td>29.547045</td>\n",
       "    </tr>\n",
       "    <tr>\n",
       "      <th>Emergency_Admissions</th>\n",
       "      <td>100.0</td>\n",
       "      <td>NaN</td>\n",
       "      <td>NaN</td>\n",
       "      <td>NaN</td>\n",
       "      <td>23.48</td>\n",
       "      <td>0.0</td>\n",
       "      <td>10.75</td>\n",
       "      <td>24.0</td>\n",
       "      <td>34.0</td>\n",
       "      <td>49.0</td>\n",
       "      <td>14.245666</td>\n",
       "    </tr>\n",
       "    <tr>\n",
       "      <th>Weekend</th>\n",
       "      <td>100.0</td>\n",
       "      <td>NaN</td>\n",
       "      <td>NaN</td>\n",
       "      <td>NaN</td>\n",
       "      <td>0.52</td>\n",
       "      <td>0.0</td>\n",
       "      <td>0.0</td>\n",
       "      <td>1.0</td>\n",
       "      <td>1.0</td>\n",
       "      <td>1.0</td>\n",
       "      <td>0.502117</td>\n",
       "    </tr>\n",
       "    <tr>\n",
       "      <th>beds_required</th>\n",
       "      <td>100.0</td>\n",
       "      <td>NaN</td>\n",
       "      <td>NaN</td>\n",
       "      <td>NaN</td>\n",
       "      <td>0.17</td>\n",
       "      <td>0.0</td>\n",
       "      <td>0.0</td>\n",
       "      <td>0.0</td>\n",
       "      <td>0.0</td>\n",
       "      <td>1.0</td>\n",
       "      <td>0.377525</td>\n",
       "    </tr>\n",
       "    <tr>\n",
       "      <th>timestamp</th>\n",
       "      <td>100</td>\n",
       "      <td>NaN</td>\n",
       "      <td>NaN</td>\n",
       "      <td>NaN</td>\n",
       "      <td>2023-02-19 12:00:00</td>\n",
       "      <td>2023-01-01 00:00:00</td>\n",
       "      <td>2023-01-25 18:00:00</td>\n",
       "      <td>2023-02-19 12:00:00</td>\n",
       "      <td>2023-03-16 06:00:00</td>\n",
       "      <td>2023-04-10 00:00:00</td>\n",
       "      <td>NaN</td>\n",
       "    </tr>\n",
       "  </tbody>\n",
       "</table>\n",
       "</div>"
      ],
      "text/plain": [
       "                      count unique    top freq                 mean  \\\n",
       "Department              100      5  PEDIA   26                  NaN   \n",
       "Bed_Occupancy         100.0    NaN    NaN  NaN                48.68   \n",
       "Emergency_Admissions  100.0    NaN    NaN  NaN                23.48   \n",
       "Weekend               100.0    NaN    NaN  NaN                 0.52   \n",
       "beds_required         100.0    NaN    NaN  NaN                 0.17   \n",
       "timestamp               100    NaN    NaN  NaN  2023-02-19 12:00:00   \n",
       "\n",
       "                                      min                  25%  \\\n",
       "Department                            NaN                  NaN   \n",
       "Bed_Occupancy                         0.0                26.75   \n",
       "Emergency_Admissions                  0.0                10.75   \n",
       "Weekend                               0.0                  0.0   \n",
       "beds_required                         0.0                  0.0   \n",
       "timestamp             2023-01-01 00:00:00  2023-01-25 18:00:00   \n",
       "\n",
       "                                      50%                  75%  \\\n",
       "Department                            NaN                  NaN   \n",
       "Bed_Occupancy                        50.0                 72.5   \n",
       "Emergency_Admissions                 24.0                 34.0   \n",
       "Weekend                               1.0                  1.0   \n",
       "beds_required                         0.0                  0.0   \n",
       "timestamp             2023-02-19 12:00:00  2023-03-16 06:00:00   \n",
       "\n",
       "                                      max        std  \n",
       "Department                            NaN        NaN  \n",
       "Bed_Occupancy                        98.0  29.547045  \n",
       "Emergency_Admissions                 49.0  14.245666  \n",
       "Weekend                               1.0   0.502117  \n",
       "beds_required                         1.0   0.377525  \n",
       "timestamp             2023-04-10 00:00:00        NaN  "
      ]
     },
     "execution_count": 8,
     "metadata": {},
     "output_type": "execute_result"
    }
   ],
   "source": [
    "##Catch sensor glitches (e.g., negative ages) before splits go haywire\n",
    "##To summarize basic statistics for numerical and categorical features.\n",
    "##Outliers (min/max way off from mean)\n",
    "##Unexpected distributions (e.g., negative values where not allowed)\n",
    "\n",
    "df.describe(include='all').T"
   ]
  },
  {
   "cell_type": "markdown",
   "id": "7e849639",
   "metadata": {},
   "source": [
    "## 7️⃣ Class Imbalance Check"
   ]
  },
  {
   "cell_type": "code",
   "execution_count": null,
   "id": "0a42aa6c",
   "metadata": {},
   "outputs": [],
   "source": [
    "##Severe imbalance ⇒ OOB error misleading; may need stratified sampling\n",
    "##To assess imbalance in classification problems, which can affect model performance and evaluation.\n",
    "##Severe skew (e.g., 95% of one class)\n",
    "##Use roc_auc, f1-score instead of just accuracy if imbalanced\n",
    "\n",
    "y = df['beds_required']\n",
    "print(\"Class distribution:\")\n",
    "print(y.value_counts(normalize=True))"
   ]
  },
  {
   "cell_type": "markdown",
   "id": "a8bb4e1e",
   "metadata": {},
   "source": [
    "## 8️⃣ Leakage Probes"
   ]
  },
  {
   "cell_type": "code",
   "execution_count": null,
   "id": "f882879b",
   "metadata": {},
   "outputs": [],
   "source": [
    "##\tColumns that perfectly predict the label (timestamps, IDs) inflate accuracy\n",
    "##To find features that \"cheat\" by containing information about the target.\n",
    "##Perfect correlation with the target\n",
    "##Timestamp or ID-based leak\n",
    "##Categorical values that map 1:1 with the label\n",
    "\n",
    "# Numeric correlation\n",
    "corr = df.corr(numeric_only=True)['beds_required'].abs().sort_values(ascending=False)\n",
    "print(\"Top correlations with target:\")\n",
    "print(corr)\n",
    "\n",
    "# Perfect categorical predictors\n",
    "for col in df.select_dtypes('object'):\n",
    "    mapping = df.groupby(col)['beds_required'].nunique()\n",
    "    if (mapping == 1).all():\n",
    "        print(f\"{col} may be a leakage source.\")"
   ]
  },
  {
   "cell_type": "markdown",
   "id": "d14cc280",
   "metadata": {},
   "source": [
    "## 9️⃣ Duplicates and Redundancy"
   ]
  },
  {
   "cell_type": "code",
   "execution_count": null,
   "id": "34a27c82",
   "metadata": {},
   "outputs": [],
   "source": [
    "##Duplicate rows can overstate confidence in bagged trees\n",
    "##To remove redundant rows which can skew training, overestimate model confidence, or violate assumptions.\n",
    "##Rows where all columns are exactly the same\n",
    "##Near-duplicate rows (optional deeper check)\n",
    "\n",
    "df.duplicated().sum()"
   ]
  },
  {
   "cell_type": "markdown",
   "id": "074df094",
   "metadata": {},
   "source": [
    "## 🔟 Time Order, Train-Test Split, and Drift"
   ]
  },
  {
   "cell_type": "code",
   "execution_count": 9,
   "id": "87255e98",
   "metadata": {},
   "outputs": [
    {
     "name": "stdout",
     "output_type": "stream",
     "text": [
      "PSI: 0.4036841349673753\n",
      "KS p-value: 0.7946174687375178\n"
     ]
    }
   ],
   "source": [
    "##For time‑series features, RF bootstrap breaks chronology—need CI‑aware split\n",
    "##To ensure temporal consistency in your train/test split and to detect feature drift over time.\n",
    "##Is the dataset sorted by time?\n",
    "##Do feature distributions shift between training and test periods?\n",
    "\n",
    "df = df.sort_values('timestamp')\n",
    "train = df[df['timestamp'] < '2023-02-15']\n",
    "test = df[df['timestamp'] >= '2023-02-15']\n",
    "\n",
    "def population_stability_index(expected, actual, bins=10):\n",
    "    def _bin(x, edges): return np.digitize(x, edges[:-1], right=False)\n",
    "    edges = np.histogram(expected, bins=bins)[1]\n",
    "    e_bins = np.bincount(_bin(expected, edges), minlength=bins)\n",
    "    a_bins = np.bincount(_bin(actual, edges), minlength=bins)\n",
    "    e_pct, a_pct = e_bins / e_bins.sum(), a_bins / a_bins.sum()\n",
    "    psi = np.sum((a_pct - e_pct) * np.log((a_pct + 1e-6) / (e_pct + 1e-6)))\n",
    "    return psi\n",
    "\n",
    "psi = population_stability_index(train['Bed_Occupancy'], test['Bed_Occupancy'])\n",
    "ks_p = ks_2samp(train['Bed_Occupancy'], test['Bed_Occupancy']).pvalue\n",
    "print(\"PSI:\", psi)\n",
    "print(\"KS p-value:\", ks_p)"
   ]
  },
  {
   "cell_type": "code",
   "execution_count": null,
   "id": "d9e12d8b-28ca-49e3-8542-24a4c200695e",
   "metadata": {},
   "outputs": [],
   "source": []
  }
 ],
 "metadata": {
  "kernelspec": {
   "display_name": "Python 3 (ipykernel)",
   "language": "python",
   "name": "python3"
  },
  "language_info": {
   "codemirror_mode": {
    "name": "ipython",
    "version": 3
   },
   "file_extension": ".py",
   "mimetype": "text/x-python",
   "name": "python",
   "nbconvert_exporter": "python",
   "pygments_lexer": "ipython3",
   "version": "3.13.2"
  }
 },
 "nbformat": 4,
 "nbformat_minor": 5
}
