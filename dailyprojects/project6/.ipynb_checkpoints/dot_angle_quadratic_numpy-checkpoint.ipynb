{
 "cells": [
  {
   "cell_type": "markdown",
   "id": "9505fa91",
   "metadata": {},
   "source": [
    "# Dot Product & Angle – NumPy‑only Demo\n",
    "Generated 2025-05-06 04:34 UTC\n",
    "\n",
    "We fit a non‑linear quadratic relationship **without scikit‑learn**, using pure NumPy linear‑algebra."
   ]
  },
  {
   "cell_type": "markdown",
   "id": "969c6dbd",
   "metadata": {},
   "source": [
    "## 1️⃣ Generate sample quadratic data"
   ]
  },
  {
   "cell_type": "code",
   "execution_count": null,
   "id": "14f50a5f",
   "metadata": {},
   "outputs": [],
   "source": [
    "\n",
    "import numpy as np\n",
    "import matplotlib.pyplot as plt\n",
    "\n",
    "np.random.seed(42)\n",
    "X = np.linspace(-3, 3, 40).reshape(-1,1)          # shape (40,1)\n",
    "y = X.flatten()**2 + np.random.normal(0, 1, size=X.shape[0])\n",
    "\n",
    "plt.scatter(X, y, c='orange')\n",
    "plt.title(\"Synthetic data: y ≈ x² + noise\")\n",
    "plt.xlabel(\"x\"); plt.ylabel(\"y\"); plt.grid(); plt.show()\n"
   ]
  },
  {
   "cell_type": "markdown",
   "id": "a805a484",
   "metadata": {},
   "source": [
    "## 2️⃣ Fit linear regression (NumPy normal equation)"
   ]
  },
  {
   "cell_type": "code",
   "execution_count": null,
   "id": "71152446",
   "metadata": {},
   "outputs": [],
   "source": [
    "\n",
    "# Design matrix for linear: [1, x]\n",
    "X_lin = np.hstack([np.ones_like(X), X])           # shape (40,2)\n",
    "w_lin = np.linalg.lstsq(X_lin, y, rcond=None)[0]  # solves (XᵀX)w = Xᵀy\n",
    "\n",
    "print(\"Linear weights:\", w_lin)\n"
   ]
  },
  {
   "cell_type": "markdown",
   "id": "42c8c852",
   "metadata": {},
   "source": [
    "## 3️⃣ Fit quadratic regression via manual polynomial features"
   ]
  },
  {
   "cell_type": "code",
   "execution_count": null,
   "id": "7c79b271",
   "metadata": {},
   "outputs": [],
   "source": [
    "\n",
    "# Features: [1, x, x²]\n",
    "X_quad = np.hstack([np.ones_like(X), X, X**2])\n",
    "w_quad = np.linalg.lstsq(X_quad, y, rcond=None)[0]\n",
    "\n",
    "print(\"Quadratic weights:\", w_quad)\n"
   ]
  },
  {
   "cell_type": "markdown",
   "id": "b4678938",
   "metadata": {},
   "source": [
    "## 4️⃣ Visualise linear vs. quadratic fits"
   ]
  },
  {
   "cell_type": "code",
   "execution_count": null,
   "id": "5ff0495f",
   "metadata": {},
   "outputs": [],
   "source": [
    "\n",
    "xx = np.linspace(-3.5, 3.5, 200).reshape(-1,1)\n",
    "X_lin_pred = np.hstack([np.ones_like(xx), xx])\n",
    "X_quad_pred = np.hstack([np.ones_like(xx), xx, xx**2])\n",
    "\n",
    "plt.figure(figsize=(7,5))\n",
    "plt.scatter(X, y, label='data', color='orange', alpha=0.7)\n",
    "plt.plot(xx, X_lin_pred @ w_lin, label='linear fit')\n",
    "plt.plot(xx, X_quad_pred @ w_quad, label='quadratic fit')\n",
    "plt.title(\"Fits with NumPy-only regression\")\n",
    "plt.xlabel(\"x\"); plt.ylabel(\"y\"); plt.legend(); plt.grid(); plt.show()\n"
   ]
  },
  {
   "cell_type": "markdown",
   "id": "f4c7277b",
   "metadata": {},
   "source": [
    "## 5️⃣ Feature‑space $(x, x^2)$ geometry & dot product"
   ]
  },
  {
   "cell_type": "code",
   "execution_count": null,
   "id": "6a94ee0c",
   "metadata": {},
   "outputs": [],
   "source": [
    "\n",
    "phi = np.hstack([X, X**2])            # shape (40,2)\n",
    "w_vec = w_quad[1:]                    # skip bias, keep [w1, w2]\n",
    "w_unit = w_vec / np.linalg.norm(w_vec)\n",
    "\n",
    "import matplotlib.pyplot as plt\n",
    "plt.figure(figsize=(6,6))\n",
    "plt.scatter(phi[:,0], phi[:,1], alpha=0.4)\n",
    "plt.quiver(0,0,*w_unit, scale=2, color='red', label='ŵ (unit)')\n",
    "plt.title(\"Data mapped to (x, x²) & weight direction\")\n",
    "plt.xlabel(\"x\"); plt.ylabel(\"x²\"); plt.grid(); plt.legend(); plt.gca().set_aspect('equal'); plt.show()\n"
   ]
  },
  {
   "cell_type": "markdown",
   "id": "7c39f36b",
   "metadata": {},
   "source": [
    "## 6️⃣ Dot‑product projection example (x = 2)"
   ]
  },
  {
   "cell_type": "code",
   "execution_count": null,
   "id": "91be146d",
   "metadata": {},
   "outputs": [],
   "source": [
    "\n",
    "x_sample = 2.0\n",
    "phi_sample = np.array([x_sample, x_sample**2])\n",
    "proj_len = phi_sample @ w_unit\n",
    "proj_vec = proj_len * w_unit\n",
    "\n",
    "print(\"φ(2) =\", phi_sample)\n",
    "print(\"Unit weight vector\", w_unit.round(3))\n",
    "print(\"Projection length =\", proj_len.round(3))\n",
    "\n",
    "# Visualise projection\n",
    "plt.figure(figsize=(6,6))\n",
    "plt.scatter(phi[:,0], phi[:,1], alpha=0.3)\n",
    "plt.quiver(0,0,*w_unit, color='red', label='ŵ')\n",
    "plt.quiver(0,0,*phi_sample, color='green', label='φ(2)')\n",
    "plt.quiver(0,0,*proj_vec, color='purple', linestyle='--', label='projection')\n",
    "plt.title(\"Projection of φ(2) onto ŵ\")\n",
    "plt.xlabel(\"x\"); plt.ylabel(\"x²\"); plt.grid(); plt.legend(); plt.gca().set_aspect('equal'); plt.show()\n"
   ]
  }
 ],
 "metadata": {},
 "nbformat": 4,
 "nbformat_minor": 5
}
