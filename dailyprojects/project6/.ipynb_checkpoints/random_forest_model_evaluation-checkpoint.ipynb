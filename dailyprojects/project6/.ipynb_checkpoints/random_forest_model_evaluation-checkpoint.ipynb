{
 "cells": [
  {
   "cell_type": "markdown",
   "id": "50511943",
   "metadata": {},
   "source": [
    "# 🧪 Model Evaluation on Random Forest\n",
    "Generated on 2025-04-18 07:37"
   ]
  },
  {
   "cell_type": "code",
   "execution_count": null,
   "id": "ad0d7928",
   "metadata": {},
   "outputs": [],
   "source": [
    "import pandas as pd\n",
    "import numpy as np\n",
    "import matplotlib.pyplot as plt\n",
    "import seaborn as sns\n",
    "\n",
    "from sklearn.ensemble import RandomForestClassifier\n",
    "from sklearn.model_selection import train_test_split\n",
    "from sklearn.metrics import (confusion_matrix, ConfusionMatrixDisplay,\n",
    "                             classification_report, accuracy_score,\n",
    "                             precision_score, recall_score, f1_score,\n",
    "                             roc_auc_score, roc_curve)\n",
    "\n",
    "np.random.seed(42)"
   ]
  },
  {
   "cell_type": "markdown",
   "id": "f1c22a76",
   "metadata": {},
   "source": [
    "## 1️⃣ Generate Synthetic Dataset"
   ]
  },
  {
   "cell_type": "code",
   "execution_count": null,
   "id": "4f7a766b",
   "metadata": {},
   "outputs": [],
   "source": [
    "df = pd.DataFrame({\n",
    "    'Age': np.random.randint(18, 70, 500),\n",
    "    'Income': np.random.normal(50000, 15000, 500).astype(int),\n",
    "    'Gender': np.random.choice([0, 1], 500),\n",
    "    'Emergency_Admissions': np.random.randint(0, 50, 500),\n",
    "    'Weekend': np.random.choice([0, 1], 500),\n",
    "})\n",
    "df['Purchased'] = ((df['Gender'] == 0) & (df['Emergency_Admissions'] > 25)).astype(int)\n",
    "df.head()"
   ]
  },
  {
   "cell_type": "markdown",
   "id": "b65830b6",
   "metadata": {},
   "source": [
    "## 2️⃣ Train-Test Split"
   ]
  },
  {
   "cell_type": "code",
   "execution_count": null,
   "id": "1fdd5c43",
   "metadata": {},
   "outputs": [],
   "source": [
    "X = df.drop(columns=['Purchased'])\n",
    "y = df['Purchased']\n",
    "X_train, X_test, y_train, y_test = train_test_split(X, y, test_size=0.2, random_state=42)"
   ]
  },
  {
   "cell_type": "markdown",
   "id": "84471b6c",
   "metadata": {},
   "source": [
    "## 3️⃣ Train Random Forest"
   ]
  },
  {
   "cell_type": "code",
   "execution_count": null,
   "id": "f790422b",
   "metadata": {},
   "outputs": [],
   "source": [
    "clf = RandomForestClassifier(n_estimators=100, random_state=42)\n",
    "clf.fit(X_train, y_train)"
   ]
  },
  {
   "cell_type": "markdown",
   "id": "f135feeb",
   "metadata": {},
   "source": [
    "## 4️⃣ Predictions & Probabilities"
   ]
  },
  {
   "cell_type": "code",
   "execution_count": null,
   "id": "bd704889",
   "metadata": {},
   "outputs": [],
   "source": [
    "y_pred = clf.predict(X_test)\n",
    "y_proba = clf.predict_proba(X_test)[:, 1]"
   ]
  },
  {
   "cell_type": "markdown",
   "id": "6c96ff97",
   "metadata": {},
   "source": [
    "## 5️⃣ Confusion Matrix"
   ]
  },
  {
   "cell_type": "code",
   "execution_count": null,
   "id": "535dc6de",
   "metadata": {},
   "outputs": [],
   "source": [
    "ConfusionMatrixDisplay.from_estimator(clf, X_test, y_test)"
   ]
  },
  {
   "cell_type": "markdown",
   "id": "36056fc8",
   "metadata": {},
   "source": [
    "## 6️⃣ Classification Report"
   ]
  },
  {
   "cell_type": "code",
   "execution_count": null,
   "id": "dbdabc48",
   "metadata": {},
   "outputs": [],
   "source": [
    "print(classification_report(y_test, y_pred))"
   ]
  },
  {
   "cell_type": "markdown",
   "id": "dbc07dae",
   "metadata": {},
   "source": [
    "## 7️⃣ ROC Curve & AUC Score"
   ]
  },
  {
   "cell_type": "code",
   "execution_count": null,
   "id": "feca5017",
   "metadata": {},
   "outputs": [],
   "source": [
    "fpr, tpr, thresholds = roc_curve(y_test, y_proba)\n",
    "plt.plot(fpr, tpr, label='ROC Curve')\n",
    "plt.plot([0, 1], [0, 1], 'k--', label='Random Guess')\n",
    "plt.xlabel('False Positive Rate')\n",
    "plt.ylabel('True Positive Rate')\n",
    "plt.title('ROC Curve')\n",
    "plt.legend()\n",
    "plt.grid(True)\n",
    "plt.show()\n",
    "\n",
    "print(\"AUC Score:\", roc_auc_score(y_test, y_proba))"
   ]
  }
 ],
 "metadata": {},
 "nbformat": 4,
 "nbformat_minor": 5
}
