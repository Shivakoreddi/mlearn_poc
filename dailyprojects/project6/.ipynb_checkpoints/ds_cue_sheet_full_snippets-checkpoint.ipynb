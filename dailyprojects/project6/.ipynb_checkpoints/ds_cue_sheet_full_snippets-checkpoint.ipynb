{
 "cells": [
  {
   "cell_type": "markdown",
   "id": "bfc3dea2",
   "metadata": {},
   "source": [
    "# Comprehensive Data‑Structure Cue‑Sheet Notebook\n",
    "Every data‑structure on the cue‑sheet is paired with a short, runnable Python example.\n",
    "\n",
    "Run cells, tweak inputs, and explore."
   ]
  },
  {
   "cell_type": "markdown",
   "id": "9abfba35",
   "metadata": {},
   "source": [
    "## 1  Array / List"
   ]
  },
  {
   "cell_type": "markdown",
   "id": "164d2732",
   "metadata": {},
   "source": [
    "**Clue**: contiguous storage, O(1) random access."
   ]
  },
  {
   "cell_type": "code",
   "execution_count": null,
   "id": "dd1bb4a3",
   "metadata": {},
   "outputs": [],
   "source": [
    "\n",
    "nums = [10, 20, 30]\n",
    "nums.append(40)\n",
    "print(\"Element 2 ->\", nums[2])\n",
    "print(\"Slice 1:3 ->\", nums[1:3])\n"
   ]
  },
  {
   "cell_type": "markdown",
   "id": "aa61a183",
   "metadata": {},
   "source": [
    "## 2  Singly Linked List"
   ]
  },
  {
   "cell_type": "markdown",
   "id": "4ebcf228",
   "metadata": {},
   "source": [
    "**Clue**: frequent middle inserts / deletions."
   ]
  },
  {
   "cell_type": "code",
   "execution_count": null,
   "id": "89f8454a",
   "metadata": {},
   "outputs": [],
   "source": [
    "\n",
    "class Node:\n",
    "    __slots__ = (\"val\",\"next\")\n",
    "    def __init__(self,val,nxt=None):\n",
    "        self.val, self.next = val, nxt\n",
    "\n",
    "head = Node(1, Node(2, Node(3)))  # 1→2→3\n",
    "# Insert 4 after second node\n",
    "new = Node(4, head.next.next)\n",
    "head.next.next = new\n",
    "\n",
    "cur = head\n",
    "while cur:\n",
    "    print(cur.val, end=\" \")\n",
    "    cur = cur.next\n"
   ]
  },
  {
   "cell_type": "markdown",
   "id": "7110c5c3",
   "metadata": {},
   "source": [
    "## 3  Stack"
   ]
  },
  {
   "cell_type": "markdown",
   "id": "c66036f6",
   "metadata": {},
   "source": [
    "**Clue**: LIFO, undo/redo, DFS recursion elimination."
   ]
  },
  {
   "cell_type": "code",
   "execution_count": null,
   "id": "691fb2a0",
   "metadata": {},
   "outputs": [],
   "source": [
    "\n",
    "stack = []\n",
    "for c in 'ABC':\n",
    "    stack.append(c)\n",
    "while stack:\n",
    "    print('pop ->', stack.pop())\n"
   ]
  },
  {
   "cell_type": "markdown",
   "id": "39822953",
   "metadata": {},
   "source": [
    "## 4  Queue / Deque"
   ]
  },
  {
   "cell_type": "markdown",
   "id": "ec6f179c",
   "metadata": {},
   "source": [
    "**Clue**: FIFO, BFS, sliding windows."
   ]
  },
  {
   "cell_type": "code",
   "execution_count": null,
   "id": "68d94778",
   "metadata": {},
   "outputs": [],
   "source": [
    "\n",
    "from collections import deque\n",
    "q = deque([1,2,3])\n",
    "q.append(4)\n",
    "print(\"dequeue:\", q.popleft())\n",
    "\n",
    "# Monotonic deque for sliding window maximum\n",
    "def slide_max(arr, k):\n",
    "    dq, out = deque(), []\n",
    "    for i,val in enumerate(arr):\n",
    "        while dq and arr[dq[-1]] <= val:\n",
    "            dq.pop()\n",
    "        dq.append(i)\n",
    "        if dq[0] == i - k:\n",
    "            dq.popleft()\n",
    "        if i >= k-1:\n",
    "            out.append(arr[dq[0]])\n",
    "    return out\n",
    "\n",
    "print(\"window max:\", slide_max([10,1,12,3,4,15], 3))\n"
   ]
  },
  {
   "cell_type": "markdown",
   "id": "125f5bf6",
   "metadata": {},
   "source": [
    "## 5  Hash Map / Set"
   ]
  },
  {
   "cell_type": "markdown",
   "id": "325025e8",
   "metadata": {},
   "source": [
    "**Clue**: O(1) average membership & look‑up."
   ]
  },
  {
   "cell_type": "code",
   "execution_count": null,
   "id": "cc4ced2e",
   "metadata": {},
   "outputs": [],
   "source": [
    "\n",
    "freq={}\n",
    "for w in 'spam spam eggs'.split():\n",
    "    freq[w]=freq.get(w,0)+1\n",
    "print(freq)\n",
    "print(\"'eggs' present?\", 'eggs' in freq)\n"
   ]
  },
  {
   "cell_type": "markdown",
   "id": "0bc03b3c",
   "metadata": {},
   "source": [
    "## 6  Ordered List (bisect)"
   ]
  },
  {
   "cell_type": "markdown",
   "id": "bd466a88",
   "metadata": {},
   "source": [
    "**Clue**: predecessor / successor queries."
   ]
  },
  {
   "cell_type": "code",
   "execution_count": null,
   "id": "0c21393b",
   "metadata": {},
   "outputs": [],
   "source": [
    "\n",
    "import bisect\n",
    "arr=[2,4,8]\n",
    "bisect.insort(arr,6)\n",
    "print(arr)\n",
    "idx = bisect.bisect_left(arr,5)\n",
    "print(\"ceiling of 5 ->\", arr[idx])\n"
   ]
  },
  {
   "cell_type": "markdown",
   "id": "f039af4c",
   "metadata": {},
   "source": [
    "## 7  Heap / Priority Queue"
   ]
  },
  {
   "cell_type": "markdown",
   "id": "631b1372",
   "metadata": {},
   "source": [
    "**Clue**: top‑k, Dijkstra."
   ]
  },
  {
   "cell_type": "code",
   "execution_count": null,
   "id": "d22e07ae",
   "metadata": {},
   "outputs": [],
   "source": [
    "\n",
    "import heapq, random\n",
    "h=[]\n",
    "for x in [5,1,9,3]:\n",
    "    heapq.heappush(h,x)\n",
    "print(\"smallest:\", heapq.heappop(h))\n",
    "\n",
    "nums=[random.randint(0,100) for _ in range(20)]\n",
    "print(\"top‑5:\", heapq.nlargest(5, nums))\n"
   ]
  },
  {
   "cell_type": "markdown",
   "id": "ca51d58d",
   "metadata": {},
   "source": [
    "### 7.1  Streaming Median (Two Heaps)"
   ]
  },
  {
   "cell_type": "markdown",
   "id": "d2bd45b3",
   "metadata": {},
   "source": []
  },
  {
   "cell_type": "code",
   "execution_count": null,
   "id": "a769ae9e",
   "metadata": {},
   "outputs": [],
   "source": [
    "\n",
    "import heapq\n",
    "lo,hi=[],[]   # max‑heap(lo) via negative, min‑heap(hi)\n",
    "def add(num):\n",
    "    heapq.heappush(lo,-num)\n",
    "    heapq.heappush(hi,-heapq.heappop(lo))\n",
    "    if len(hi) > len(lo):\n",
    "        heapq.heappush(lo,-heapq.heappop(hi))\n",
    "def median():\n",
    "    return -lo[0] if len(lo)>len(hi) else (-lo[0]+hi[0])/2\n",
    "\n",
    "for n in [5,15,1,3]:\n",
    "    add(n)\n",
    "    print('after', n, 'median=', median())\n"
   ]
  },
  {
   "cell_type": "markdown",
   "id": "8f9aabe2",
   "metadata": {},
   "source": [
    "## 8  Disjoint‑Set (Union‑Find)"
   ]
  },
  {
   "cell_type": "markdown",
   "id": "e04fba6b",
   "metadata": {},
   "source": [
    "**Clue**: connectivity, Kruskal MST."
   ]
  },
  {
   "cell_type": "code",
   "execution_count": null,
   "id": "b7242126",
   "metadata": {},
   "outputs": [],
   "source": [
    "\n",
    "class UF:\n",
    "    def __init__(self,n):\n",
    "        self.p=list(range(n)); self.sz=[1]*n\n",
    "    def find(self,x):\n",
    "        while self.p[x]!=x:\n",
    "            self.p[x]=self.p[self.p[x]]\n",
    "            x=self.p[x]\n",
    "        return x\n",
    "    def union(self,a,b):\n",
    "        ra,rb=self.find(a),self.find(b)\n",
    "        if ra==rb: return False\n",
    "        if self.sz[ra]<self.sz[rb]: ra,rb=rb,ra\n",
    "        self.p[rb]=ra; self.sz[ra]+=self.sz[rb]; return True\n",
    "\n",
    "uf=UF(4); uf.union(0,1); uf.union(2,3)\n",
    "print(\"0~3 connected?\", uf.find(0)==uf.find(3))\n"
   ]
  },
  {
   "cell_type": "markdown",
   "id": "208f1234",
   "metadata": {},
   "source": [
    "## 9  Trie (Prefix Tree)"
   ]
  },
  {
   "cell_type": "markdown",
   "id": "0e092185",
   "metadata": {},
   "source": [
    "**Clue**: autocomplete, prefix match."
   ]
  },
  {
   "cell_type": "code",
   "execution_count": null,
   "id": "5d2b21d3",
   "metadata": {},
   "outputs": [],
   "source": [
    "\n",
    "from collections import defaultdict\n",
    "class TrieNode(defaultdict):\n",
    "    def __init__(self): super().__init__(TrieNode); self.end=False\n",
    "class Trie:\n",
    "    def __init__(self): self.root=TrieNode()\n",
    "    def insert(self,word):\n",
    "        node=self.root\n",
    "        for ch in word: node=node[ch]\n",
    "        node.end=True\n",
    "    def startswith(self,prefix):\n",
    "        node=self.root\n",
    "        for ch in prefix:\n",
    "            if ch not in node: return []\n",
    "            node=node[ch]\n",
    "        out=[]\n",
    "        def dfs(n, path):\n",
    "            if n.end: out.append(''.join(path))\n",
    "            for c,child in n.items(): dfs(child,path+[c])\n",
    "        dfs(node,list(prefix))\n",
    "        return out\n",
    "tr=Trie()\n",
    "for w in [\"cat\",\"car\",\"cart\",\"dog\"]: tr.insert(w)\n",
    "print(tr.startswith(\"ca\"))\n"
   ]
  },
  {
   "cell_type": "markdown",
   "id": "2a8c6ff9",
   "metadata": {},
   "source": [
    "## 10  Prefix Sum"
   ]
  },
  {
   "cell_type": "markdown",
   "id": "b69283a3",
   "metadata": {},
   "source": [
    "O(1) range‑sum queries after O(n) pre‑compute."
   ]
  },
  {
   "cell_type": "code",
   "execution_count": null,
   "id": "9fa6d819",
   "metadata": {},
   "outputs": [],
   "source": [
    "\n",
    "nums=[3,1,4,1,5,9]\n",
    "pref=[0]\n",
    "for x in nums: pref.append(pref[-1]+x)\n",
    "def rsum(l,r): return pref[r+1]-pref[l]\n",
    "print(\"sum 2..4:\", rsum(2,4))\n"
   ]
  },
  {
   "cell_type": "markdown",
   "id": "223515dd",
   "metadata": {},
   "source": [
    "## 11  Fenwick (BIT)"
   ]
  },
  {
   "cell_type": "markdown",
   "id": "1b0359e1",
   "metadata": {},
   "source": [
    "Log‑time point‑update & prefix‑sum."
   ]
  },
  {
   "cell_type": "code",
   "execution_count": null,
   "id": "4b86af80",
   "metadata": {},
   "outputs": [],
   "source": [
    "\n",
    "class BIT:\n",
    "    def __init__(self,n): self.N=n+1; self.bit=[0]*(self.N)\n",
    "    def add(self,i,delta):\n",
    "        i+=1\n",
    "        while i<self.N:\n",
    "            self.bit[i]+=delta; i+=i&-i\n",
    "    def pref(self,i):\n",
    "        i+=1; s=0\n",
    "        while i: s+=self.bit[i]; i-=i&-i\n",
    "        return s\n",
    "bit=BIT(5)\n",
    "for i,v in enumerate([3,2,4,5,1]): bit.add(i,v)\n",
    "print(\"sum 1..3 =\", bit.pref(3)-bit.pref(0))\n"
   ]
  },
  {
   "cell_type": "markdown",
   "id": "a998c816",
   "metadata": {},
   "source": [
    "## 12  Segment Tree"
   ]
  },
  {
   "cell_type": "markdown",
   "id": "9765dba5",
   "metadata": {},
   "source": [
    "Range sum example."
   ]
  },
  {
   "cell_type": "code",
   "execution_count": null,
   "id": "dddeb7b0",
   "metadata": {},
   "outputs": [],
   "source": [
    "\n",
    "class SegTree:\n",
    "    def __init__(self,a):\n",
    "        n=len(a); self.N=1\n",
    "        while self.N<n: self.N*=2\n",
    "        self.t=[0]*(2*self.N)\n",
    "        self.t[self.N:self.N+n]=a\n",
    "        for i in range(self.N-1,0,-1):\n",
    "            self.t[i]=self.t[2*i]+self.t[2*i+1]\n",
    "    def query(self,l,r):\n",
    "        l+=self.N; r+=self.N; s=0\n",
    "        while l<=r:\n",
    "            if l%2: s+=self.t[l]; l+=1\n",
    "            if not r%2: s+=self.t[r]; r-=1\n",
    "            l//=2; r//=2\n",
    "        return s\n",
    "st=SegTree([3,2,4,5,1])\n",
    "print(st.query(1,3))\n"
   ]
  },
  {
   "cell_type": "markdown",
   "id": "2c1630e9",
   "metadata": {},
   "source": [
    "## 13  Bitset / Bitmask"
   ]
  },
  {
   "cell_type": "markdown",
   "id": "761add10",
   "metadata": {},
   "source": []
  },
  {
   "cell_type": "code",
   "execution_count": null,
   "id": "26aa61a1",
   "metadata": {},
   "outputs": [],
   "source": [
    "\n",
    "flags=0\n",
    "for bit in [1,3,4]:\n",
    "    flags |= 1<<bit\n",
    "print(bin(flags))\n",
    "print(\"has 3?\", bool(flags & (1<<3)))\n"
   ]
  },
  {
   "cell_type": "markdown",
   "id": "a411ec8c",
   "metadata": {},
   "source": [
    "## 14  Coordinate Compression"
   ]
  },
  {
   "cell_type": "markdown",
   "id": "a7e00c9e",
   "metadata": {},
   "source": []
  },
  {
   "cell_type": "code",
   "execution_count": null,
   "id": "ab97b611",
   "metadata": {},
   "outputs": [],
   "source": [
    "\n",
    "coords=[100,30,1000,30,500]\n",
    "mp={v:i for i,v in enumerate(sorted(set(coords)))}\n",
    "print(mp)\n",
    "compressed=[mp[v] for v in coords]\n",
    "print(compressed)\n"
   ]
  },
  {
   "cell_type": "markdown",
   "id": "f49f5a4d",
   "metadata": {},
   "source": [
    "## 15  Bloom Filter"
   ]
  },
  {
   "cell_type": "markdown",
   "id": "1f7b79ff",
   "metadata": {},
   "source": []
  },
  {
   "cell_type": "code",
   "execution_count": null,
   "id": "83c4a73b",
   "metadata": {},
   "outputs": [],
   "source": [
    "\n",
    "import hashlib, math, array\n",
    "class Bloom:\n",
    "    def __init__(self,n,fp=0.01):\n",
    "        self.m=math.ceil(-(n*math.log(fp))/(math.log(2)**2))\n",
    "        self.k=math.ceil((self.m/n)*math.log(2))\n",
    "        self.bits=array.array('B',[0])*self.m\n",
    "    def _hashes(self,item):\n",
    "        h1=int(hashlib.md5(item.encode()).hexdigest(),16)\n",
    "        h2=int(hashlib.sha1(item.encode()).hexdigest(),16)\n",
    "        for i in range(self.k): yield (h1+i*h2)%self.m\n",
    "    def add(self,item):\n",
    "        for idx in self._hashes(item): self.bits[idx]=1\n",
    "    def __contains__(self,item):\n",
    "        return all(self.bits[idx] for idx in self._hashes(item))\n",
    "bf=Bloom(1000)\n",
    "bf.add('hello')\n",
    "print('hello' in bf, 'world' in bf)\n"
   ]
  }
 ],
 "metadata": {},
 "nbformat": 4,
 "nbformat_minor": 5
}
