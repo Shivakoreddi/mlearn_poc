{
 "cells": [
  {
   "cell_type": "markdown",
   "id": "fac495ae",
   "metadata": {},
   "source": [
    "# 🛍️ Mall Customer Segmentation with PySpark\n",
    "Generated 2025-05-06 02:16 UTC"
   ]
  },
  {
   "cell_type": "markdown",
   "id": "cc610676",
   "metadata": {},
   "source": [
    "## 🔍 1️⃣ Data Inspection"
   ]
  },
  {
   "cell_type": "code",
   "execution_count": null,
   "id": "b99cf356",
   "metadata": {},
   "outputs": [],
   "source": [
    "\n",
    "from pyspark.sql import SparkSession\n",
    "\n",
    "spark = SparkSession.builder.appName(\"MallSegmentation\").getOrCreate()\n",
    "\n",
    "data = [(1,\"Male\",19,15,39),(2,\"Female\",21,16,81),(3,\"Female\",20,17,6),(4,\"Male\",23,18,77),(5,\"Female\",31,19,40),(6,\"Male\",22,20,76),(7,\"Female\",35,21,6),(8,\"Male\",23,22,94),(9,\"Female\",64,23,3),(10,\"Male\",30,24,72)]\n",
    "cols = [\"CustomerID\",\"Gender\",\"Age\",\"AnnualIncomeK\",\"SpendingScore\"]\n",
    "df = spark.createDataFrame(data, cols)\n",
    "df.show()\n",
    "df.printSchema()\n"
   ]
  },
  {
   "cell_type": "markdown",
   "id": "00402a08",
   "metadata": {},
   "source": [
    "## 🛠️ 2️⃣ Feature Engineering"
   ]
  },
  {
   "cell_type": "code",
   "execution_count": null,
   "id": "e7c42ff1",
   "metadata": {},
   "outputs": [],
   "source": [
    "\n",
    "from pyspark.ml.feature import StringIndexer\n",
    "from pyspark.sql import functions as F\n",
    "\n",
    "indexer = StringIndexer(inputCol=\"Gender\", outputCol=\"GenderIdx\")\n",
    "df = indexer.fit(df).transform(df)\n",
    "df = df.withColumn(\"IncomePerAge\", F.col(\"AnnualIncomeK\") / (F.col(\"Age\")+1e-5))\n",
    "df.select(\"Gender\",\"GenderIdx\",\"IncomePerAge\").show(5)\n"
   ]
  },
  {
   "cell_type": "markdown",
   "id": "388529e8",
   "metadata": {},
   "source": [
    "## 🧹 3️⃣ Preprocessing"
   ]
  },
  {
   "cell_type": "code",
   "execution_count": null,
   "id": "faa2f2e1",
   "metadata": {},
   "outputs": [],
   "source": [
    "\n",
    "from pyspark.ml.feature import VectorAssembler, StandardScaler\n",
    "\n",
    "feature_cols = [\"AnnualIncomeK\",\"SpendingScore\",\"GenderIdx\",\"IncomePerAge\"]\n",
    "vec_assembler = VectorAssembler(inputCols=feature_cols, outputCol=\"features_raw\")\n",
    "df_vec = vec_assembler.transform(df)\n",
    "\n",
    "scaler = StandardScaler(inputCol=\"features_raw\", outputCol=\"features\", withStd=True, withMean=True)\n",
    "df_scaled = scaler.fit(df_vec).transform(df_vec)\n"
   ]
  },
  {
   "cell_type": "markdown",
   "id": "b2e70c7b",
   "metadata": {},
   "source": [
    "## 🤖 4️⃣ Model Development – KMeans"
   ]
  },
  {
   "cell_type": "code",
   "execution_count": null,
   "id": "e84cc78c",
   "metadata": {},
   "outputs": [],
   "source": [
    "\n",
    "from pyspark.ml.clustering import KMeans\n",
    "km = KMeans(k=3, seed=42, featuresCol=\"features\", predictionCol=\"kmeans_label\")\n",
    "model = km.fit(df_scaled)\n",
    "df_km = model.transform(df_scaled)\n",
    "df_km.select(\"CustomerID\",\"kmeans_label\").show()\n"
   ]
  },
  {
   "cell_type": "markdown",
   "id": "02aaabbc",
   "metadata": {},
   "source": [
    "## 🔧 5️⃣ Hyperparameter Tuning (Silhouette)"
   ]
  },
  {
   "cell_type": "code",
   "execution_count": null,
   "id": "819c8610",
   "metadata": {},
   "outputs": [],
   "source": [
    "\n",
    "from pyspark.ml.evaluation import ClusteringEvaluator\n",
    "\n",
    "evaluator = ClusteringEvaluator(featuresCol=\"features\", predictionCol=\"pred\", metricName=\"silhouette\", distanceMeasure=\"squaredEuclidean\")\n",
    "best_k, best_score = None, -1\n",
    "for k in range(2,7):\n",
    "    m = KMeans(k=k, seed=42, featuresCol=\"features\", predictionCol=\"pred\").fit(df_scaled)\n",
    "    score = evaluator.evaluate(m.transform(df_scaled))\n",
    "    print(f\"k={k}, silhouette={score:.3f}\")\n",
    "    if score > best_score:\n",
    "        best_k, best_score = k, score\n",
    "print(\"Best k:\", best_k)\n"
   ]
  },
  {
   "cell_type": "markdown",
   "id": "4a89c90b",
   "metadata": {},
   "source": [
    "## ✅ 6️⃣ Final Model Evaluation"
   ]
  },
  {
   "cell_type": "code",
   "execution_count": null,
   "id": "6f9738b8",
   "metadata": {},
   "outputs": [],
   "source": [
    "\n",
    "final = KMeans(k=best_k, seed=42, featuresCol=\"features\", predictionCol=\"segment\").fit(df_scaled)\n",
    "df_final = final.transform(df_scaled)\n",
    "print(\"Silhouette:\", evaluator.evaluate(df_final))\n",
    "df_final.select(\"CustomerID\",\"AnnualIncomeK\",\"SpendingScore\",\"segment\").show()\n"
   ]
  },
  {
   "cell_type": "markdown",
   "id": "9680b5f9",
   "metadata": {},
   "source": [
    "## 📊 7️⃣ Visualization"
   ]
  },
  {
   "cell_type": "code",
   "execution_count": null,
   "id": "57fc75d3",
   "metadata": {},
   "outputs": [],
   "source": [
    "\n",
    "import pandas as pd\n",
    "import matplotlib.pyplot as plt\n",
    "import seaborn as sns\n",
    "\n",
    "pdf = df_final.select(\"AnnualIncomeK\",\"SpendingScore\",\"segment\").toPandas()\n",
    "sns.scatterplot(data=pdf, x=\"AnnualIncomeK\", y=\"SpendingScore\", hue=\"segment\", palette=\"Set2\")\n",
    "plt.title(f\"Mall Segments (k={best_k})\")\n",
    "plt.show()\n"
   ]
  },
  {
   "cell_type": "markdown",
   "id": "2747b7f5",
   "metadata": {},
   "source": [
    "## 🧠 8️⃣ Insights & Next Steps\n",
    "- High/low spenders clusters etc.\n",
    "- Try DBSCAN or BisectingKMeans for alternative clustering."
   ]
  }
 ],
 "metadata": {},
 "nbformat": 4,
 "nbformat_minor": 5
}
