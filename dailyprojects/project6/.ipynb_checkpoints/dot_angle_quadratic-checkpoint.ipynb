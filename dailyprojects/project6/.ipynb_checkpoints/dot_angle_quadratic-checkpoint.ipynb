{
 "cells": [
  {
   "cell_type": "markdown",
   "id": "1440a683",
   "metadata": {},
   "source": [
    "# Dot Product, Angle & Non‑Linear Curve\n",
    "Generated 2025-05-06 04:27 UTC\n",
    "\n",
    "This notebook:\n",
    "1. Generates quadratic data with noise\n",
    "2. Fits linear and quadratic models\n",
    "3. Visualises fits in original 1‑D space\n",
    "4. Maps data to 2‑D feature space $(x, x^2)$ and shows dot‑product geometry\n"
   ]
  },
  {
   "cell_type": "markdown",
   "id": "f0248562",
   "metadata": {},
   "source": [
    "## 1️⃣ Generate synthetic non‑linear data"
   ]
  },
  {
   "cell_type": "code",
   "execution_count": null,
   "id": "b0e5b81b",
   "metadata": {},
   "outputs": [],
   "source": [
    "\n",
    "import numpy as np\n",
    "import pandas as pd\n",
    "import matplotlib.pyplot as plt\n",
    "np.random.seed(42)\n",
    "\n",
    "# quadratic data\n",
    "X = np.linspace(-3, 3, 40).reshape(-1,1)\n",
    "y = X.flatten()**2 + np.random.normal(0, 1, size=X.shape[0])\n",
    "\n",
    "# quick dataframe\n",
    "df = pd.DataFrame({'x': X.flatten(), 'y': y})\n",
    "df.head()\n"
   ]
  },
  {
   "cell_type": "markdown",
   "id": "5d5cb8fa",
   "metadata": {},
   "source": [
    "## 2️⃣ Fit linear vs. quadratic regression"
   ]
  },
  {
   "cell_type": "code",
   "execution_count": null,
   "id": "c14bd73c",
   "metadata": {},
   "outputs": [],
   "source": [
    "\n",
    "from sklearn.linear_model import LinearRegression\n",
    "from sklearn.preprocessing import PolynomialFeatures\n",
    "from sklearn.pipeline import make_pipeline\n",
    "\n",
    "lin = LinearRegression().fit(X, y)\n",
    "quad = make_pipeline(PolynomialFeatures(degree=2, include_bias=False), LinearRegression()).fit(X, y)\n",
    "\n",
    "print(\"Linear coeffs:\", lin.coef_, lin.intercept_)\n",
    "print(\"Quadratic coeffs:\", quad.named_steps['linearregression'].coef_, quad.named_steps['linearregression'].intercept_)\n"
   ]
  },
  {
   "cell_type": "markdown",
   "id": "df88986a",
   "metadata": {},
   "source": [
    "## 3️⃣ Visualise fits in original space"
   ]
  },
  {
   "cell_type": "code",
   "execution_count": null,
   "id": "86f9fb56",
   "metadata": {},
   "outputs": [],
   "source": [
    "\n",
    "xx = np.linspace(-3.5, 3.5, 200).reshape(-1,1)\n",
    "plt.figure(figsize=(7,5))\n",
    "plt.scatter(X, y, label='data', color='orange')\n",
    "plt.plot(xx, lin.predict(xx), label='linear fit')\n",
    "plt.plot(xx, quad.predict(xx), label='quadratic fit')\n",
    "plt.title(\"Non‑linear relationship\")\n",
    "plt.xlabel(\"x\"); plt.ylabel(\"y\"); plt.legend(); plt.grid(); plt.show()\n"
   ]
  },
  {
   "cell_type": "markdown",
   "id": "85a05cf9",
   "metadata": {},
   "source": [
    "## 4️⃣ Map to feature space $(x, x^2)$ and show weight vector"
   ]
  },
  {
   "cell_type": "code",
   "execution_count": null,
   "id": "bb82b826",
   "metadata": {},
   "outputs": [],
   "source": [
    "\n",
    "# Map data\n",
    "phi = np.column_stack([X.flatten(), X.flatten()**2])\n",
    "w = quad.named_steps['linearregression'].coef_  # [w1, w2]\n",
    "w_norm = w / np.linalg.norm(w)\n",
    "\n",
    "# Plot feature vectors and weight vector\n",
    "plt.figure(figsize=(6,6))\n",
    "plt.scatter(phi[:,0], phi[:,1], alpha=0.5, label='φ(x)')\n",
    "plt.quiver(0,0,w_norm[0], w_norm[1], angles='xy', scale_units='xy', scale=1.5, color='red', label='weight direction')\n",
    "plt.axhline(0,color='k',lw=0.5); plt.axvline(0,color='k',lw=0.5)\n",
    "plt.gca().set_aspect('equal'); plt.grid(); plt.legend()\n",
    "plt.title(\"Feature space vectors & weight direction\")\n",
    "plt.xlabel(\"x\"); plt.ylabel(\"x²\")\n",
    "plt.show()\n"
   ]
  },
  {
   "cell_type": "markdown",
   "id": "5f16c180",
   "metadata": {},
   "source": [
    "## 5️⃣ Dot‑product projection example"
   ]
  },
  {
   "cell_type": "code",
   "execution_count": null,
   "id": "8ccb5dce",
   "metadata": {},
   "outputs": [],
   "source": [
    "\n",
    "sample_x = np.array([[2.0]])\n",
    "phi_sample = np.array([sample_x.item(), sample_x.item()**2])\n",
    "proj_len = (phi_sample @ w_norm)  # length along w_norm\n",
    "proj_vec = proj_len * w_norm\n",
    "\n",
    "print(\"φ(x) =\", phi_sample)\n",
    "print(\"Unit weight vector =\", w_norm.round(3))\n",
    "print(\"Projection length =\", proj_len.round(3))\n",
    "\n",
    "# Visualise\n",
    "plt.figure(figsize=(6,6))\n",
    "plt.scatter(phi[:,0], phi[:,1], alpha=0.3)\n",
    "plt.quiver(0,0,w_norm[0], w_norm[1], color='red',scale=2,label='ŵ')\n",
    "plt.quiver(0,0,phi_sample[0],phi_sample[1],color='green',label='φ(2)')\n",
    "plt.quiver(0,0,proj_vec[0],proj_vec[1],color='purple',linestyle='--',label='projection')\n",
    "plt.gca().set_aspect('equal'); plt.grid(); plt.legend()\n",
    "plt.title(\"Projection of φ(2) onto weight direction\")\n",
    "plt.xlabel(\"x\"); plt.ylabel(\"x²\")\n",
    "plt.show()\n"
   ]
  }
 ],
 "metadata": {},
 "nbformat": 4,
 "nbformat_minor": 5
}
