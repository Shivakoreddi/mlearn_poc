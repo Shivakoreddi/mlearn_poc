{
 "cells": [
  {
   "cell_type": "code",
   "execution_count": 19,
   "id": "c97630a5-9585-457f-85a8-f73ad91c89a3",
   "metadata": {},
   "outputs": [],
   "source": [
    "import numpy as np\n",
    "\n",
    "x = np.array(['ICU','SURGERY','PEDIA','ICU','SURGERY','ICU','ICU','ICU','SURGERY'])\n",
    "y = np.array([1,1,0,1,0,0,1,1,0])\n"
   ]
  },
  {
   "cell_type": "code",
   "execution_count": 20,
   "id": "82282be0-94af-444b-9b82-18dde0c5eb9a",
   "metadata": {},
   "outputs": [],
   "source": [
    "left_mask=x=='ICU'\n",
    "right_mask=x!='ICU'"
   ]
  },
  {
   "cell_type": "code",
   "execution_count": 27,
   "id": "99eda1bd-7142-4a83-84b5-2e9a757c40d0",
   "metadata": {},
   "outputs": [
    {
     "name": "stdout",
     "output_type": "stream",
     "text": [
      "left_mask: [ True False False  True False  True  True  True False]\n",
      "right_mask: [False  True  True False  True False False False  True]\n"
     ]
    }
   ],
   "source": [
    "print(\"left_mask:\",left_mask)\n",
    "print(\"right_mask:\",right_mask)"
   ]
  },
  {
   "cell_type": "code",
   "execution_count": 28,
   "id": "6bf52954-e4fa-4b98-b28d-6094ba87e2ea",
   "metadata": {},
   "outputs": [],
   "source": [
    "x_left, y_left = x[left_mask], y[left_mask]\n",
    "x_right, y_right = x[right_mask], y[right_mask]"
   ]
  },
  {
   "cell_type": "code",
   "execution_count": 29,
   "id": "9748366d-f986-4077-bf96-1ea582a81df9",
   "metadata": {},
   "outputs": [
    {
     "name": "stdout",
     "output_type": "stream",
     "text": [
      "x_left: ['ICU' 'ICU' 'ICU' 'ICU' 'ICU']\n",
      "x_right: ['SURGERY' 'PEDIA' 'SURGERY' 'SURGERY']\n"
     ]
    }
   ],
   "source": [
    "print(\"x_left:\",x_left)\n",
    "print(\"x_right:\",x_right)"
   ]
  },
  {
   "cell_type": "code",
   "execution_count": 30,
   "id": "b045c501-a71e-4ceb-9bba-8e54d9f5cf23",
   "metadata": {},
   "outputs": [
    {
     "name": "stdout",
     "output_type": "stream",
     "text": [
      "5\n",
      "4\n"
     ]
    }
   ],
   "source": [
    "nl = len(x_left)\n",
    "print(nl)\n",
    "nr = len(x_right)\n",
    "print(nr)\n",
    "n=9"
   ]
  },
  {
   "cell_type": "code",
   "execution_count": 32,
   "id": "6656a9b4-85ba-4e1e-8796-2c7f71fa6ccb",
   "metadata": {},
   "outputs": [
    {
     "name": "stdout",
     "output_type": "stream",
     "text": [
      "p1: 0.2\n",
      "p2: 0.8\n",
      "gini_left: 0.31999999999999984\n",
      "p1: 0.75\n",
      "p2: 0.25\n",
      "gini_right: 0.375\n"
     ]
    }
   ],
   "source": [
    "# Gini Impurity function\n",
    "def gini_impurity(y_group):\n",
    "    m = len(y_group)\n",
    "    if m == 0:\n",
    "        return 0\n",
    "    p1 = np.sum(y_group == 0) / m\n",
    "    p2 = np.sum(y_group == 1) / m\n",
    "    print(\"p1:\",p1)\n",
    "    print(\"p2:\",p2)\n",
    "    return 1 - p1**2 - p2**2\n",
    "\n",
    "# Calculate impurities\n",
    "gini_left = gini_impurity(y_left)\n",
    "print(\"gini_left:\",gini_left)\n",
    "gini_right = gini_impurity(y_right)\n",
    "print(\"gini_right:\",gini_right)"
   ]
  },
  {
   "cell_type": "code",
   "execution_count": 33,
   "id": "2a403c02-427a-4e05-8fbd-8c3549a33ba8",
   "metadata": {},
   "outputs": [
    {
     "name": "stdout",
     "output_type": "stream",
     "text": [
      "weighted_gini 0.34444444444444433\n"
     ]
    }
   ],
   "source": [
    "# Weighted Gini\n",
    "weighted_gini = (nl / n) * gini_left + (nr / n) * gini_right\n",
    "print(\"weighted_gini\",weighted_gini)"
   ]
  },
  {
   "cell_type": "code",
   "execution_count": 9,
   "id": "74cb68ff-f289-4e34-af86-4366f02d1bfd",
   "metadata": {},
   "outputs": [
    {
     "data": {
      "text/plain": [
       "array([0, 0, 0, 0])"
      ]
     },
     "execution_count": 9,
     "metadata": {},
     "output_type": "execute_result"
    }
   ],
   "source": [
    "y_right"
   ]
  },
  {
   "cell_type": "code",
   "execution_count": 22,
   "id": "d01c0c0d-9ea5-45d5-9b5a-1c3954964d38",
   "metadata": {},
   "outputs": [
    {
     "name": "stdout",
     "output_type": "stream",
     "text": [
      "5\n",
      "4\n"
     ]
    }
   ],
   "source": []
  },
  {
   "cell_type": "code",
   "execution_count": 31,
   "id": "46328939-6699-41ee-8c6d-ae357eda3f1a",
   "metadata": {},
   "outputs": [
    {
     "name": "stdout",
     "output_type": "stream",
     "text": [
      "p1: 0.2\n",
      "p2: 0.8\n",
      "gini_left: 0.31999999999999984\n",
      "p1: 0.75\n",
      "p2: 0.25\n",
      "gini_right: 0.375\n"
     ]
    }
   ],
   "source": []
  },
  {
   "cell_type": "code",
   "execution_count": 24,
   "id": "8b5096e1-4ed5-4702-bd94-50d40cbc727a",
   "metadata": {},
   "outputs": [
    {
     "name": "stdout",
     "output_type": "stream",
     "text": [
      "weighted_gini 0.34444444444444433\n"
     ]
    }
   ],
   "source": []
  },
  {
   "cell_type": "code",
   "execution_count": null,
   "id": "fa4d2b00-9675-4580-bcd2-518d96dd1a2d",
   "metadata": {},
   "outputs": [],
   "source": []
  }
 ],
 "metadata": {
  "kernelspec": {
   "display_name": "Python 3 (ipykernel)",
   "language": "python",
   "name": "python3"
  },
  "language_info": {
   "codemirror_mode": {
    "name": "ipython",
    "version": 3
   },
   "file_extension": ".py",
   "mimetype": "text/x-python",
   "name": "python",
   "nbconvert_exporter": "python",
   "pygments_lexer": "ipython3",
   "version": "3.13.2"
  }
 },
 "nbformat": 4,
 "nbformat_minor": 5
}
